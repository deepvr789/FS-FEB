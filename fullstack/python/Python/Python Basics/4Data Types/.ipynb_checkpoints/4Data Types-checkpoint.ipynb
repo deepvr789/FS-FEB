{
 "cells": [
  {
   "cell_type": "code",
   "execution_count": 1,
   "id": "a9f9d8f1-e03a-4761-95f7-9e822d1a4161",
   "metadata": {},
   "outputs": [
    {
     "name": "stdout",
     "output_type": "stream",
     "text": [
      "[]\n",
      "[10, 20.5, 'Rahul Gandhi', True]\n"
     ]
    }
   ],
   "source": [
    "#what is list object? list data type?\n",
    "a=[]  #empty list\n",
    "b=[10,20.5, \"Rahul Gandhi\", True] \n",
    "\n",
    "print(a)\n",
    "print(b)"
   ]
  },
  {
   "cell_type": "code",
   "execution_count": 3,
   "id": "e1e0e03b-cc8e-46d4-bbc8-744fff38be13",
   "metadata": {},
   "outputs": [
    {
     "name": "stdout",
     "output_type": "stream",
     "text": [
      "Rahul\n",
      "Sonia\n",
      "Priyanka\n",
      "Modi\n"
     ]
    },
    {
     "ename": "IndexError",
     "evalue": "list index out of range",
     "output_type": "error",
     "traceback": [
      "\u001b[1;31m---------------------------------------------------------------------------\u001b[0m",
      "\u001b[1;31mIndexError\u001b[0m                                Traceback (most recent call last)",
      "Cell \u001b[1;32mIn[3], line 9\u001b[0m\n\u001b[0;32m      7\u001b[0m \u001b[38;5;28mprint\u001b[39m(enames[\u001b[38;5;241m2\u001b[39m])\n\u001b[0;32m      8\u001b[0m \u001b[38;5;28mprint\u001b[39m(enames[\u001b[38;5;241m3\u001b[39m])\n\u001b[1;32m----> 9\u001b[0m \u001b[38;5;28mprint\u001b[39m(\u001b[43menames\u001b[49m\u001b[43m[\u001b[49m\u001b[38;5;241;43m4\u001b[39;49m\u001b[43m]\u001b[49m)\n",
      "\u001b[1;31mIndexError\u001b[0m: list index out of range"
     ]
    }
   ],
   "source": [
    "enames=['Rahul', 'Sonia','Priyanka','Modi']\n",
    "#index    0        1          2        3\n",
    "#read list elements - using indexing\n",
    "\n",
    "print(enames[0])\n",
    "print(enames[1])\n",
    "print(enames[2])\n",
    "print(enames[3])\n",
    "print(enames[4])"
   ]
  },
  {
   "cell_type": "code",
   "execution_count": 4,
   "id": "0094e44a-5347-4887-909f-98b8068a53a6",
   "metadata": {},
   "outputs": [
    {
     "name": "stdout",
     "output_type": "stream",
     "text": [
      "Rahul\n",
      "Sonia\n",
      "Priyanka\n",
      "Modi\n"
     ]
    }
   ],
   "source": [
    "enames=['Rahul', 'Sonia','Priyanka','Modi']\n",
    "#index    0        1          2        3\n",
    "\n",
    "for ename in enames:\n",
    "    print(ename)"
   ]
  },
  {
   "cell_type": "code",
   "execution_count": 5,
   "id": "86d8a48b-851a-4edd-854c-58e88e69b651",
   "metadata": {},
   "outputs": [
    {
     "name": "stdout",
     "output_type": "stream",
     "text": [
      "<class 'list'>\n",
      "<class 'tuple'>\n"
     ]
    }
   ],
   "source": [
    "users=['Rahul', 'Sonia','Priyanka','Modi']\n",
    "enames=('Rahul', 'Sonia','Priyanka','Modi')\n",
    "print(type(users))   #<class,list>\n",
    "print(type(enames))  #<class,tuple>"
   ]
  },
  {
   "cell_type": "code",
   "execution_count": 6,
   "id": "0236f96d-4e1e-4922-9a6f-9e9640390c53",
   "metadata": {},
   "outputs": [
    {
     "name": "stdout",
     "output_type": "stream",
     "text": [
      "(10, 20.5, 'Rahul Gandhi', True, True, 10)\n"
     ]
    }
   ],
   "source": [
    "#what is tuple object? read only version of list boject.\n",
    "\n",
    "a=(10,20.5,\"Rahul Gandhi\", True, True,10)\n",
    "print(a)"
   ]
  },
  {
   "cell_type": "code",
   "execution_count": 8,
   "id": "b05b11d0-47cc-4493-a5d4-63ad8bb857d5",
   "metadata": {},
   "outputs": [
    {
     "name": "stdout",
     "output_type": "stream",
     "text": [
      "['Rahul Gandhi', 'Sonia', 'Priyanka', 'Modi', 'Amith Shaw']\n"
     ]
    }
   ],
   "source": [
    "users=['Rahul', 'Sonia','Priyanka','Modi']\n",
    "enames=('Rahul', 'Sonia','Priyanka','Modi')\n",
    "users.append(\"Amith Shaw\")\n",
    "users[0] = \"Rahul Gandhi\"\n",
    "print(users)"
   ]
  },
  {
   "cell_type": "code",
   "execution_count": 9,
   "id": "80e61814-1347-4408-bf81-a267c291ec66",
   "metadata": {},
   "outputs": [
    {
     "ename": "TypeError",
     "evalue": "'tuple' object does not support item assignment",
     "output_type": "error",
     "traceback": [
      "\u001b[1;31m---------------------------------------------------------------------------\u001b[0m",
      "\u001b[1;31mTypeError\u001b[0m                                 Traceback (most recent call last)",
      "Cell \u001b[1;32mIn[9], line 5\u001b[0m\n\u001b[0;32m      1\u001b[0m enames\u001b[38;5;241m=\u001b[39m(\u001b[38;5;124m'\u001b[39m\u001b[38;5;124mRahul\u001b[39m\u001b[38;5;124m'\u001b[39m, \u001b[38;5;124m'\u001b[39m\u001b[38;5;124mSonia\u001b[39m\u001b[38;5;124m'\u001b[39m,\u001b[38;5;124m'\u001b[39m\u001b[38;5;124mPriyanka\u001b[39m\u001b[38;5;124m'\u001b[39m,\u001b[38;5;124m'\u001b[39m\u001b[38;5;124mModi\u001b[39m\u001b[38;5;124m'\u001b[39m)\n\u001b[0;32m      3\u001b[0m \u001b[38;5;66;03m#Read only version of list object.\u001b[39;00m\n\u001b[1;32m----> 5\u001b[0m \u001b[43menames\u001b[49m\u001b[43m[\u001b[49m\u001b[38;5;241;43m0\u001b[39;49m\u001b[43m]\u001b[49m \u001b[38;5;241m=\u001b[39m \u001b[38;5;124m\"\u001b[39m\u001b[38;5;124mRahul Gandhi\u001b[39m\u001b[38;5;124m\"\u001b[39m\n",
      "\u001b[1;31mTypeError\u001b[0m: 'tuple' object does not support item assignment"
     ]
    }
   ],
   "source": [
    "enames=('Rahul', 'Sonia','Priyanka','Modi')\n",
    "\n",
    "#Read only version of list object.\n",
    "\n",
    "enames[0] = \"Rahul Gandhi\""
   ]
  },
  {
   "cell_type": "code",
   "execution_count": 12,
   "id": "a05460c7-de6b-439c-9fbb-440e481cd2d4",
   "metadata": {},
   "outputs": [
    {
     "name": "stdout",
     "output_type": "stream",
     "text": [
      "Rahul\n",
      "Sonia\n",
      "Priyanka\n",
      "Modi\n",
      "Rahul\n",
      "Sonia\n",
      "Priyanka\n",
      "Modi\n"
     ]
    },
    {
     "ename": "IndexError",
     "evalue": "tuple index out of range",
     "output_type": "error",
     "traceback": [
      "\u001b[1;31m---------------------------------------------------------------------------\u001b[0m",
      "\u001b[1;31mIndexError\u001b[0m                                Traceback (most recent call last)",
      "Cell \u001b[1;32mIn[12], line 10\u001b[0m\n\u001b[0;32m      8\u001b[0m \u001b[38;5;28mprint\u001b[39m(enames[\u001b[38;5;241m2\u001b[39m])\n\u001b[0;32m      9\u001b[0m \u001b[38;5;28mprint\u001b[39m(enames[\u001b[38;5;241m3\u001b[39m])\n\u001b[1;32m---> 10\u001b[0m \u001b[38;5;28mprint\u001b[39m(\u001b[43menames\u001b[49m\u001b[43m[\u001b[49m\u001b[38;5;241;43m4\u001b[39;49m\u001b[43m]\u001b[49m)\n",
      "\u001b[1;31mIndexError\u001b[0m: tuple index out of range"
     ]
    }
   ],
   "source": [
    "enames=('Rahul', 'Sonia','Priyanka','Modi')\n",
    "\n",
    "for ename in enames:\n",
    "    print(ename)\n",
    "\n",
    "print(enames[0])\n",
    "print(enames[1])\n",
    "print(enames[2])\n",
    "print(enames[3])\n",
    "print(enames[4])"
   ]
  },
  {
   "cell_type": "code",
   "execution_count": 13,
   "id": "c653cd2b-9f2b-4d09-8d31-1c2caadb0975",
   "metadata": {},
   "outputs": [
    {
     "name": "stdout",
     "output_type": "stream",
     "text": [
      "<class 'list'>\n",
      "<class 'tuple'>\n",
      "<class 'dict'>\n",
      "<class 'dict'>\n"
     ]
    }
   ],
   "source": [
    "l=[]   #empty list\n",
    "t = () #empty tuple\n",
    "s = {} #empty dict\n",
    "d={}   #empty dict\n",
    "\n",
    "print(type(l))\n",
    "print(type(t))\n",
    "print(type(s))\n",
    "print(type(d))"
   ]
  },
  {
   "cell_type": "code",
   "execution_count": 14,
   "id": "7f7a6fd3-1bff-4c2e-9334-73a1123b9f6b",
   "metadata": {},
   "outputs": [
    {
     "name": "stdout",
     "output_type": "stream",
     "text": [
      "set()\n",
      "<class 'set'>\n"
     ]
    }
   ],
   "source": [
    "#how to create empty set? - using set() function\n",
    "\n",
    "s1= set()\n",
    "print(s1)\n",
    "print(type(s1))"
   ]
  },
  {
   "cell_type": "code",
   "execution_count": 16,
   "id": "eb256b50-05e2-4816-b6ac-408a6488dfd2",
   "metadata": {},
   "outputs": [
    {
     "name": "stdout",
     "output_type": "stream",
     "text": [
      "<class 'list'>\n",
      "<class 'tuple'>\n",
      "<class 'set'>\n",
      "<class 'dict'>\n",
      "[]\n",
      "()\n",
      "set()\n",
      "{}\n"
     ]
    }
   ],
   "source": [
    "l=[]   #empty list\n",
    "t = () #empty tuple\n",
    "s = set() #empty set\n",
    "d={}   #empty dict\n",
    "\n",
    "print(type(l))\n",
    "print(type(t))\n",
    "print(type(s))\n",
    "print(type(d))\n",
    "print(l)\n",
    "print(t)\n",
    "print(s)\n",
    "print(d)"
   ]
  },
  {
   "cell_type": "code",
   "execution_count": 17,
   "id": "833c6b77-6304-4492-9569-04b9839b7d19",
   "metadata": {},
   "outputs": [
    {
     "name": "stdout",
     "output_type": "stream",
     "text": [
      "{10, 20}\n"
     ]
    }
   ],
   "source": [
    "#what is set?\n",
    "#group of elmenent as one entity, and not allowed duplicates\n",
    "a={10,20,20,10,20}\n",
    "print(a)"
   ]
  },
  {
   "cell_type": "code",
   "execution_count": 18,
   "id": "16c78d59-bfa1-4d42-8ea7-a0b29134f710",
   "metadata": {},
   "outputs": [
    {
     "name": "stdout",
     "output_type": "stream",
     "text": [
      "{True, 'RG', 10, 20.5}\n"
     ]
    }
   ],
   "source": [
    "a={10,20.5,\"RG\",True,10,10}\n",
    "print(a)\n"
   ]
  },
  {
   "cell_type": "code",
   "execution_count": 20,
   "id": "cf863e76-4e14-4ff3-b050-61d3b3bbe6f0",
   "metadata": {},
   "outputs": [
    {
     "name": "stdout",
     "output_type": "stream",
     "text": [
      "{104, 103}\n"
     ]
    }
   ],
   "source": [
    "ids1={101,102,103,104}\n",
    "ids2={105,106,107,101,102}\n",
    "\n",
    "ids1=ids1-ids2\n",
    "print(ids1)"
   ]
  },
  {
   "cell_type": "code",
   "execution_count": 21,
   "id": "805eabab-0f78-4a76-b027-f9326664f0a2",
   "metadata": {},
   "outputs": [
    {
     "name": "stdout",
     "output_type": "stream",
     "text": [
      "set()\n"
     ]
    }
   ],
   "source": [
    "ids={101,102,103,104}\n",
    "ids.clear()\n",
    "\n",
    "print(ids)"
   ]
  },
  {
   "cell_type": "code",
   "execution_count": 25,
   "id": "18dda7e5-191e-40ce-8a0f-b8870e6f7a17",
   "metadata": {},
   "outputs": [
    {
     "name": "stdout",
     "output_type": "stream",
     "text": [
      "[]\n",
      "set()\n",
      "{}\n"
     ]
    }
   ],
   "source": [
    "users=['Rahul', 'Sonia','Priyanka','Modi']\n",
    "enames=('Rahul', 'Sonia','Priyanka','Modi')\n",
    "ids={101,102,103,104}\n",
    "\n",
    "emp={'id':101,'name':\"Rahul\"}\n",
    "\n",
    "users.clear()\n",
    "print(users)   \n",
    "\n",
    "#enames.clear()\n",
    "#print(enames)  #tuple object has no attribute - clear\n",
    "\n",
    "\n",
    "\n",
    "ids.clear()\n",
    "print(ids)\n",
    "\n",
    "emp.clear()\n",
    "print(emp)\n"
   ]
  },
  {
   "cell_type": "code",
   "execution_count": 26,
   "id": "1b967906-d331-4138-b4da-341fb822dea8",
   "metadata": {},
   "outputs": [
    {
     "name": "stdout",
     "output_type": "stream",
     "text": [
      "<class 'dict'>\n"
     ]
    }
   ],
   "source": [
    "#what is dict?\n",
    "emp={'id':101,'name':\"Rahul\"}\n",
    "print(type(emp))"
   ]
  },
  {
   "cell_type": "code",
   "execution_count": 27,
   "id": "fc17d71e-e13f-4915-a4ab-d40e80e21d2a",
   "metadata": {},
   "outputs": [
    {
     "name": "stdout",
     "output_type": "stream",
     "text": [
      "{'id': 201, 'name': 'Rahul'}\n"
     ]
    }
   ],
   "source": [
    "emp={'id':101,'name':\"Rahul\", 'id':201}\n",
    "print(emp)\n"
   ]
  },
  {
   "cell_type": "code",
   "execution_count": null,
   "id": "5b285c2d-3125-4c53-b556-35e3256fb917",
   "metadata": {},
   "outputs": [],
   "source": []
  }
 ],
 "metadata": {
  "kernelspec": {
   "display_name": "Python 3 (ipykernel)",
   "language": "python",
   "name": "python3"
  },
  "language_info": {
   "codemirror_mode": {
    "name": "ipython",
    "version": 3
   },
   "file_extension": ".py",
   "mimetype": "text/x-python",
   "name": "python",
   "nbconvert_exporter": "python",
   "pygments_lexer": "ipython3",
   "version": "3.12.2"
  }
 },
 "nbformat": 4,
 "nbformat_minor": 5
}
