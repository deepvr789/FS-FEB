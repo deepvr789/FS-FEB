{
 "cells": [
  {
   "cell_type": "code",
   "execution_count": 2,
   "id": "774a7480-7c2c-4647-afa0-fecf1a7e5989",
   "metadata": {},
   "outputs": [
    {
     "name": "stdout",
     "output_type": "stream",
     "text": [
      "Rahul\n",
      "Sonia\n",
      "Priyanka\n",
      "Priyanka\n",
      "Sonia\n",
      "Rahul\n"
     ]
    }
   ],
   "source": [
    "enames=['Rahul','Sonia','Priyanka']\n",
    "#how to read/access list elements? - using indexing\n",
    "#list[index]  - index +ve and -ve\n",
    "\n",
    "print(enames[0])\n",
    "print(enames[1])\n",
    "print(enames[2])\n",
    "\n",
    "print(enames[-1])\n",
    "print(enames[-2])\n",
    "print(enames[-3])\n"
   ]
  },
  {
   "cell_type": "code",
   "execution_count": 3,
   "id": "a04fdfac-03cc-4c2c-aaf7-834480e2e874",
   "metadata": {},
   "outputs": [
    {
     "ename": "IndexError",
     "evalue": "list index out of range",
     "output_type": "error",
     "traceback": [
      "\u001b[1;31m---------------------------------------------------------------------\u001b[0m",
      "\u001b[1;31mIndexError\u001b[0m                          Traceback (most recent call last)",
      "Cell \u001b[1;32mIn[3], line 3\u001b[0m\n\u001b[0;32m      1\u001b[0m enames\u001b[38;5;241m=\u001b[39m[\u001b[38;5;124m'\u001b[39m\u001b[38;5;124mRahul\u001b[39m\u001b[38;5;124m'\u001b[39m,\u001b[38;5;124m'\u001b[39m\u001b[38;5;124mSonia\u001b[39m\u001b[38;5;124m'\u001b[39m,\u001b[38;5;124m'\u001b[39m\u001b[38;5;124mPriyanka\u001b[39m\u001b[38;5;124m'\u001b[39m]\n\u001b[1;32m----> 3\u001b[0m \u001b[38;5;28mprint\u001b[39m(\u001b[43menames\u001b[49m\u001b[43m[\u001b[49m\u001b[38;5;241;43m10\u001b[39;49m\u001b[43m]\u001b[49m)\n",
      "\u001b[1;31mIndexError\u001b[0m: list index out of range"
     ]
    }
   ],
   "source": [
    "enames=['Rahul','Sonia','Priyanka']\n",
    "\n",
    "print(enames[10])"
   ]
  },
  {
   "cell_type": "code",
   "execution_count": 4,
   "id": "1957201b-1573-49aa-bea1-119063fdd2e6",
   "metadata": {},
   "outputs": [
    {
     "name": "stdout",
     "output_type": "stream",
     "text": [
      "Rahul\n",
      "Sonia\n",
      "Priyanka\n",
      "Modi\n"
     ]
    }
   ],
   "source": [
    "enames=['Rahul','Sonia','Priyanka',\"Modi\"]\n",
    "\n",
    "for ename in enames:\n",
    "    print(ename)"
   ]
  },
  {
   "cell_type": "code",
   "execution_count": 5,
   "id": "556c794f-626b-4b20-b969-96f3666d07ca",
   "metadata": {},
   "outputs": [
    {
     "name": "stdout",
     "output_type": "stream",
     "text": [
      "Rahul\n",
      "Sonia\n",
      "Priyanka\n",
      "Modi\n"
     ]
    }
   ],
   "source": [
    "enames=['Rahul','Sonia','Priyanka',\"Modi\"]\n",
    "\n",
    "#we can iterate list object using for loop and while loop\n",
    "\n",
    "i=0\n",
    "while i<=len(enames)-1:\n",
    "    print(enames[i])\n",
    "    i=i+1"
   ]
  },
  {
   "cell_type": "code",
   "execution_count": null,
   "id": "aa7da817-e615-4810-8764-9707c09b066e",
   "metadata": {},
   "outputs": [],
   "source": []
  }
 ],
 "metadata": {
  "kernelspec": {
   "display_name": "Python 3 (ipykernel)",
   "language": "python",
   "name": "python3"
  },
  "language_info": {
   "codemirror_mode": {
    "name": "ipython",
    "version": 3
   },
   "file_extension": ".py",
   "mimetype": "text/x-python",
   "name": "python",
   "nbconvert_exporter": "python",
   "pygments_lexer": "ipython3",
   "version": "3.12.2"
  }
 },
 "nbformat": 4,
 "nbformat_minor": 5
}
