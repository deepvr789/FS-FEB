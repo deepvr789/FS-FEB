{
 "cells": [
  {
   "cell_type": "code",
   "execution_count": 2,
   "id": "c198b54b-5542-4e5a-bf97-d41033da57dc",
   "metadata": {},
   "outputs": [
    {
     "name": "stdout",
     "output_type": "stream",
     "text": [
      "{40, 10, 50, 20, 60, 30}\n",
      "{40, 10, 50, 20, 60, 30}\n"
     ]
    }
   ],
   "source": [
    "s1={10,20,30,40}\n",
    "s2={30,40,50,60}\n",
    "\n",
    "print(s1 | s2)\n",
    "print(s1.union(s2))"
   ]
  },
  {
   "cell_type": "code",
   "execution_count": 3,
   "id": "bf53debc-e4fc-41b0-a3ce-6a45026005d7",
   "metadata": {},
   "outputs": [
    {
     "name": "stdout",
     "output_type": "stream",
     "text": [
      "{40, 30}\n",
      "{40, 30}\n"
     ]
    }
   ],
   "source": [
    "s1={10,20,30,40}\n",
    "s2={30,40,50,60}\n",
    "\n",
    "print(s1 & s2)\n",
    "print(s1.intersection(s2))"
   ]
  },
  {
   "cell_type": "code",
   "execution_count": 5,
   "id": "44bede6c-f51e-42b8-bc14-3d7050ba40de",
   "metadata": {},
   "outputs": [
    {
     "name": "stdout",
     "output_type": "stream",
     "text": [
      "{10, 20}\n",
      "{10, 20}\n",
      "{50, 60}\n",
      "{50, 60}\n"
     ]
    }
   ],
   "source": [
    "s1={10,20,30,40}\n",
    "s2={30,40,50,60}\n",
    "\n",
    "print(s1 - s2)\n",
    "print(s1.difference(s2))\n",
    "\n",
    "print(s2 - s1)\n",
    "print(s2.difference(s1))"
   ]
  },
  {
   "cell_type": "code",
   "execution_count": 7,
   "id": "600599cb-27ef-4e42-8739-b847d8984a24",
   "metadata": {},
   "outputs": [
    {
     "name": "stdout",
     "output_type": "stream",
     "text": [
      "{10, 50, 20, 60}\n",
      "{10, 50, 20, 60}\n"
     ]
    }
   ],
   "source": [
    "s1={10,20,30,40}\n",
    "s2={30,40,50,60}\n",
    "print(s1 ^ s2)\n",
    "print(s1.symmetric_difference(s2))"
   ]
  },
  {
   "cell_type": "code",
   "execution_count": null,
   "id": "44dea0ed-4f49-4c6e-bfbe-bc1738fa4056",
   "metadata": {},
   "outputs": [],
   "source": []
  }
 ],
 "metadata": {
  "kernelspec": {
   "display_name": "Python 3 (ipykernel)",
   "language": "python",
   "name": "python3"
  },
  "language_info": {
   "codemirror_mode": {
    "name": "ipython",
    "version": 3
   },
   "file_extension": ".py",
   "mimetype": "text/x-python",
   "name": "python",
   "nbconvert_exporter": "python",
   "pygments_lexer": "ipython3",
   "version": "3.12.2"
  }
 },
 "nbformat": 4,
 "nbformat_minor": 5
}
