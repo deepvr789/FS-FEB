{
 "cells": [
  {
   "cell_type": "code",
   "execution_count": 2,
   "id": "d2ca8c51-4973-4fb3-b3b0-ccee54aac489",
   "metadata": {},
   "outputs": [
    {
     "name": "stdout",
     "output_type": "stream",
     "text": [
      "<class 'dict'>\n",
      "<class 'set'>\n"
     ]
    }
   ],
   "source": [
    "d1={}       #how to create empty dict object\n",
    "s1=set()    #how to create empty set object\n",
    "print(type(d1))\n",
    "print(type(s1))"
   ]
  },
  {
   "cell_type": "code",
   "execution_count": 3,
   "id": "89eeeb33-83e3-4650-85cc-ce079fb9e7f9",
   "metadata": {},
   "outputs": [
    {
     "name": "stdout",
     "output_type": "stream",
     "text": [
      "{'id': 101, 'name': 'Rahul', 'sal': 45000}\n"
     ]
    }
   ],
   "source": [
    "emp={'id':101,'name':'Rahul','sal':45000}\n",
    "print(emp)"
   ]
  },
  {
   "cell_type": "code",
   "execution_count": 4,
   "id": "0988995b-89de-480a-af60-befc86ca3385",
   "metadata": {},
   "outputs": [
    {
     "name": "stdout",
     "output_type": "stream",
     "text": [
      "{'id': 101, 'name': 'Rahul', 'sal': 46000}\n"
     ]
    }
   ],
   "source": [
    "emp={'id':101,'name':'Rahul','sal':45000,'sal':46000}\n",
    "\n",
    "print(emp)"
   ]
  },
  {
   "cell_type": "code",
   "execution_count": 5,
   "id": "0c2cc7fc-eed7-4b4b-877b-1b58254091de",
   "metadata": {},
   "outputs": [
    {
     "ename": "SyntaxError",
     "evalue": "invalid syntax (3183640687.py, line 2)",
     "output_type": "error",
     "traceback": [
      "\u001b[1;36m  Cell \u001b[1;32mIn[5], line 2\u001b[1;36m\u001b[0m\n\u001b[1;33m    l2=l1[:]   //slice operator\u001b[0m\n\u001b[1;37m                       ^\u001b[0m\n\u001b[1;31mSyntaxError\u001b[0m\u001b[1;31m:\u001b[0m invalid syntax\n"
     ]
    }
   ],
   "source": [
    "l1= [10,20,30,40,50,50]\n",
    "l2=l1[:]      #slice operator\n",
    "print(l1[0])  #indexing"
   ]
  },
  {
   "cell_type": "code",
   "execution_count": 9,
   "id": "926f0ade-60f0-41e8-a7e7-7de48d620b15",
   "metadata": {},
   "outputs": [
    {
     "ename": "IndexError",
     "evalue": "list index out of range",
     "output_type": "error",
     "traceback": [
      "\u001b[1;31m---------------------------------------------------------------------------\u001b[0m",
      "\u001b[1;31mIndexError\u001b[0m                                Traceback (most recent call last)",
      "Cell \u001b[1;32mIn[9], line 3\u001b[0m\n\u001b[0;32m      1\u001b[0m l1\u001b[38;5;241m=\u001b[39m [\u001b[38;5;241m10\u001b[39m,\u001b[38;5;241m20\u001b[39m,\u001b[38;5;241m30\u001b[39m,\u001b[38;5;241m40\u001b[39m,\u001b[38;5;241m50\u001b[39m,\u001b[38;5;241m50\u001b[39m]\n\u001b[0;32m      2\u001b[0m l2\u001b[38;5;241m=\u001b[39ml1[\u001b[38;5;241m2\u001b[39m:\u001b[38;5;241m1000\u001b[39m]      \u001b[38;5;66;03m#slice operator\u001b[39;00m\n\u001b[1;32m----> 3\u001b[0m \u001b[38;5;28mprint\u001b[39m(\u001b[43ml2\u001b[49m\u001b[43m[\u001b[49m\u001b[38;5;241;43m100\u001b[39;49m\u001b[43m]\u001b[49m)\n",
      "\u001b[1;31mIndexError\u001b[0m: list index out of range"
     ]
    }
   ],
   "source": [
    "l1= [10,20,30,40,50,50]\n",
    "l2=l1[2:1000]      #slice operator\n",
    "print(l2[100])"
   ]
  },
  {
   "cell_type": "code",
   "execution_count": 10,
   "id": "e34bbb31-a233-4c19-a147-86a750cc44ce",
   "metadata": {},
   "outputs": [
    {
     "ename": "KeyError",
     "evalue": "0",
     "output_type": "error",
     "traceback": [
      "\u001b[1;31m---------------------------------------------------------------------------\u001b[0m",
      "\u001b[1;31mKeyError\u001b[0m                                  Traceback (most recent call last)",
      "Cell \u001b[1;32mIn[10], line 3\u001b[0m\n\u001b[0;32m      1\u001b[0m emp\u001b[38;5;241m=\u001b[39m{\u001b[38;5;124m'\u001b[39m\u001b[38;5;124mid\u001b[39m\u001b[38;5;124m'\u001b[39m:\u001b[38;5;241m101\u001b[39m,\u001b[38;5;124m'\u001b[39m\u001b[38;5;124mname\u001b[39m\u001b[38;5;124m'\u001b[39m:\u001b[38;5;124m'\u001b[39m\u001b[38;5;124mRahul\u001b[39m\u001b[38;5;124m'\u001b[39m,\u001b[38;5;124m'\u001b[39m\u001b[38;5;124msal\u001b[39m\u001b[38;5;124m'\u001b[39m:\u001b[38;5;241m45000\u001b[39m,\u001b[38;5;124m'\u001b[39m\u001b[38;5;124msal\u001b[39m\u001b[38;5;124m'\u001b[39m:\u001b[38;5;241m46000\u001b[39m}\n\u001b[1;32m----> 3\u001b[0m \u001b[38;5;28mprint\u001b[39m(\u001b[43memp\u001b[49m\u001b[43m[\u001b[49m\u001b[38;5;241;43m0\u001b[39;49m\u001b[43m]\u001b[49m)\n",
      "\u001b[1;31mKeyError\u001b[0m: 0"
     ]
    }
   ],
   "source": [
    "emp={'id':101,'name':'Rahul','sal':45000,'sal':46000}\n",
    "\n",
    "print(emp[0])"
   ]
  },
  {
   "cell_type": "code",
   "execution_count": 12,
   "id": "5fe17183-6cc6-4f8f-94ee-d8d7f508bc92",
   "metadata": {},
   "outputs": [
    {
     "ename": "NameError",
     "evalue": "name 'eid' is not defined",
     "output_type": "error",
     "traceback": [
      "\u001b[1;31m---------------------------------------------------------------------------\u001b[0m",
      "\u001b[1;31mNameError\u001b[0m                                 Traceback (most recent call last)",
      "Cell \u001b[1;32mIn[12], line 3\u001b[0m\n\u001b[0;32m      1\u001b[0m emp\u001b[38;5;241m=\u001b[39m{\u001b[38;5;124m'\u001b[39m\u001b[38;5;124meid\u001b[39m\u001b[38;5;124m'\u001b[39m:\u001b[38;5;241m101\u001b[39m,\u001b[38;5;124m'\u001b[39m\u001b[38;5;124mname\u001b[39m\u001b[38;5;124m'\u001b[39m:\u001b[38;5;124m'\u001b[39m\u001b[38;5;124mRahul\u001b[39m\u001b[38;5;124m'\u001b[39m,\u001b[38;5;124m'\u001b[39m\u001b[38;5;124msal\u001b[39m\u001b[38;5;124m'\u001b[39m:\u001b[38;5;241m45000\u001b[39m,\u001b[38;5;124m'\u001b[39m\u001b[38;5;124msal\u001b[39m\u001b[38;5;124m'\u001b[39m:\u001b[38;5;241m46000\u001b[39m}\n\u001b[1;32m----> 3\u001b[0m \u001b[38;5;28mprint\u001b[39m(emp[\u001b[43meid\u001b[49m])\n",
      "\u001b[1;31mNameError\u001b[0m: name 'eid' is not defined"
     ]
    }
   ],
   "source": [
    "emp={'eid':101,'name':'Rahul','sal':45000,'sal':46000}\n",
    "\n",
    "print(emp[eid])"
   ]
  },
  {
   "cell_type": "code",
   "execution_count": 14,
   "id": "07de5baf-2ae1-44df-980f-e35805e40ea5",
   "metadata": {},
   "outputs": [
    {
     "name": "stdout",
     "output_type": "stream",
     "text": [
      "101\n",
      "Rahul\n",
      "46000\n"
     ]
    }
   ],
   "source": [
    "emp={'eid':101,'name':'Rahul','sal':45000,'sal':46000}\n",
    "\n",
    "print(emp['eid'])\n",
    "print(emp['name'])\n",
    "print(emp['sal'])"
   ]
  },
  {
   "cell_type": "code",
   "execution_count": 16,
   "id": "538777af-e4bd-4cf2-a1e6-a812c023f291",
   "metadata": {},
   "outputs": [
    {
     "name": "stdout",
     "output_type": "stream",
     "text": [
      "Rahul\n",
      "Sonia\n",
      "Priyanka\n"
     ]
    },
    {
     "ename": "KeyError",
     "evalue": "104",
     "output_type": "error",
     "traceback": [
      "\u001b[1;31m---------------------------------------------------------------------------\u001b[0m",
      "\u001b[1;31mKeyError\u001b[0m                                  Traceback (most recent call last)",
      "Cell \u001b[1;32mIn[16], line 6\u001b[0m\n\u001b[0;32m      4\u001b[0m \u001b[38;5;28mprint\u001b[39m(users[\u001b[38;5;241m102\u001b[39m])\n\u001b[0;32m      5\u001b[0m \u001b[38;5;28mprint\u001b[39m(users[\u001b[38;5;241m103\u001b[39m])\n\u001b[1;32m----> 6\u001b[0m \u001b[38;5;28mprint\u001b[39m(\u001b[43musers\u001b[49m\u001b[43m[\u001b[49m\u001b[38;5;241;43m104\u001b[39;49m\u001b[43m]\u001b[49m)\n",
      "\u001b[1;31mKeyError\u001b[0m: 104"
     ]
    }
   ],
   "source": [
    "users={ 101:'Rahul',102:'Sonia',103:'Priyanka'}\n",
    "#how to read dict values - using keys\n",
    "print(users[101])\n",
    "print(users[102])\n",
    "print(users[103])\n",
    "#print(users[104])"
   ]
  },
  {
   "cell_type": "code",
   "execution_count": 17,
   "id": "b91ec4e4-30ae-46b8-b22d-1a0ddb7acaf7",
   "metadata": {},
   "outputs": [
    {
     "name": "stdout",
     "output_type": "stream",
     "text": [
      "Rahul\n",
      "Sonia\n",
      "Priyanka\n"
     ]
    }
   ],
   "source": [
    "users={ 101:'Rahul',102:'Sonia',103:'Priyanka'}\n",
    "#how to read dict values - using keys\n",
    "print(users[101])\n",
    "print(users[102])\n",
    "print(users[103])\n"
   ]
  },
  {
   "cell_type": "code",
   "execution_count": 18,
   "id": "1b778dbe-c9ca-4461-8c3c-b7bfe6cccb9e",
   "metadata": {},
   "outputs": [
    {
     "name": "stdout",
     "output_type": "stream",
     "text": [
      "{'eid': 101, 'name': 'Rahul', 'sal': 47000}\n"
     ]
    }
   ],
   "source": [
    "emp={'eid':101,'name':'Rahul','sal':45000,'sal':46000}\n",
    "\n",
    "emp['sal'] = 47000\n",
    "\n",
    "print(emp)"
   ]
  },
  {
   "cell_type": "code",
   "execution_count": 20,
   "id": "4a8103ae-c1ad-4f30-bba0-626a083a124b",
   "metadata": {},
   "outputs": [
    {
     "name": "stdout",
     "output_type": "stream",
     "text": [
      "<class 'dict_keys'>\n",
      "eid\n",
      "name\n",
      "sal\n"
     ]
    }
   ],
   "source": [
    "#get all keys\n",
    "#using keys() methods\n",
    "emp={'eid':101,'name':'Rahul','sal':45000,'sal':46000}\n",
    "\n",
    "keys= emp.keys()\n",
    "print(type(keys))\n",
    "\n",
    "for key in keys:\n",
    "    print(key)\n",
    "\n",
    "#get all values\n",
    "#using values() methods\n",
    "#get itesm/properties/key:value pairs\n",
    "#using itesm() methods"
   ]
  },
  {
   "cell_type": "code",
   "execution_count": 23,
   "id": "53305d47-b915-4b18-a3ce-4b061a783086",
   "metadata": {},
   "outputs": [
    {
     "name": "stdout",
     "output_type": "stream",
     "text": [
      "<class 'dict_values'>\n",
      "101\n",
      "Rahul\n",
      "46000\n"
     ]
    }
   ],
   "source": [
    "emp={'eid':101,'name':'Rahul','sal':45000,'sal':46000}\n",
    "#get all values - using keys methods\n",
    "#get all values - using values() methods\n",
    "\n",
    "values=emp.values()\n",
    "print(type(values))\n",
    "\n",
    "for value in values:\n",
    "    print(value)\n"
   ]
  },
  {
   "cell_type": "code",
   "execution_count": 24,
   "id": "82a68c13-4e1a-4b71-abe0-e250e0674507",
   "metadata": {},
   "outputs": [
    {
     "name": "stdout",
     "output_type": "stream",
     "text": [
      "101\n",
      "Rahul\n",
      "46000\n"
     ]
    }
   ],
   "source": [
    "emp={'eid':101,'name':'Rahul','sal':45000,'sal':46000}\n",
    "#get all values - using keys methods\n",
    "\n",
    "for key in emp.keys():\n",
    "    print(emp[key])"
   ]
  },
  {
   "cell_type": "code",
   "execution_count": 27,
   "id": "629d9596-6be0-4ff9-80fe-3d8f1e5b1f69",
   "metadata": {},
   "outputs": [
    {
     "name": "stdout",
     "output_type": "stream",
     "text": [
      "<class 'dict_items'>\n"
     ]
    }
   ],
   "source": [
    "emp={'eid':101,'name':'Rahul','sal':45000,'sal':46000}\n",
    "#print all key and value using items\n",
    "\n",
    "items=emp.items()\n",
    "print(type(items))"
   ]
  },
  {
   "cell_type": "code",
   "execution_count": 29,
   "id": "cf25e66e-f037-4125-b357-915aa8579cff",
   "metadata": {},
   "outputs": [
    {
     "name": "stdout",
     "output_type": "stream",
     "text": [
      "<class 'dict_items'>\n",
      "eid : 101\n",
      "name : Rahul\n",
      "sal : 46000\n"
     ]
    }
   ],
   "source": [
    "emp={'eid':101,'name':'Rahul','sal':45000,'sal':46000}\n",
    "#print all key and value using items\n",
    "\n",
    "items=emp.items()\n",
    "print(type(items))\n",
    "\n",
    "\n",
    "for key,value in items:\n",
    "    print(key , \":\", value)"
   ]
  },
  {
   "cell_type": "code",
   "execution_count": 30,
   "id": "52cbab67-3df8-4e31-b8be-9973d332307b",
   "metadata": {},
   "outputs": [
    {
     "name": "stdout",
     "output_type": "stream",
     "text": [
      "101\n"
     ]
    }
   ],
   "source": [
    "emp={'eid':101,'name':'Rahul','sal':45000,'sal':46000}\n",
    "\n",
    "print(emp.get('eid'))"
   ]
  },
  {
   "cell_type": "code",
   "execution_count": 35,
   "id": "a5e2752c-23b6-408c-94c7-7f9728a0527c",
   "metadata": {},
   "outputs": [
    {
     "name": "stdout",
     "output_type": "stream",
     "text": [
      "101\n",
      "Rahul\n"
     ]
    }
   ],
   "source": [
    "emp={'eid':101,'name':'Rahul','sal':45000,'sal':46000}\n",
    "\n",
    "print(emp['eid'])  #101\n",
    "print(emp['name'])  #Rahul"
   ]
  },
  {
   "cell_type": "code",
   "execution_count": 38,
   "id": "9ca41a8b-f2e0-41d4-9ca1-b4cb0f757ef5",
   "metadata": {},
   "outputs": [
    {
     "name": "stdout",
     "output_type": "stream",
     "text": [
      "101\n",
      "Rahul\n"
     ]
    },
    {
     "ename": "KeyError",
     "evalue": "'email'",
     "output_type": "error",
     "traceback": [
      "\u001b[1;31m---------------------------------------------------------------------------\u001b[0m",
      "\u001b[1;31mKeyError\u001b[0m                                  Traceback (most recent call last)",
      "Cell \u001b[1;32mIn[38], line 5\u001b[0m\n\u001b[0;32m      3\u001b[0m \u001b[38;5;28mprint\u001b[39m(emp[\u001b[38;5;124m'\u001b[39m\u001b[38;5;124meid\u001b[39m\u001b[38;5;124m'\u001b[39m])  \u001b[38;5;66;03m#101\u001b[39;00m\n\u001b[0;32m      4\u001b[0m \u001b[38;5;28mprint\u001b[39m(emp[\u001b[38;5;124m'\u001b[39m\u001b[38;5;124mname\u001b[39m\u001b[38;5;124m'\u001b[39m])  \u001b[38;5;66;03m#Rahul\u001b[39;00m\n\u001b[1;32m----> 5\u001b[0m \u001b[38;5;28mprint\u001b[39m(\u001b[43memp\u001b[49m\u001b[43m[\u001b[49m\u001b[38;5;124;43m'\u001b[39;49m\u001b[38;5;124;43memail\u001b[39;49m\u001b[38;5;124;43m'\u001b[39;49m\u001b[43m]\u001b[49m) \n\u001b[0;32m      7\u001b[0m \u001b[38;5;28mprint\u001b[39m(emp\u001b[38;5;241m.\u001b[39mget(\u001b[38;5;124m'\u001b[39m\u001b[38;5;124meid\u001b[39m\u001b[38;5;124m'\u001b[39m))\n\u001b[0;32m      8\u001b[0m \u001b[38;5;28mprint\u001b[39m(emp\u001b[38;5;241m.\u001b[39mget(\u001b[38;5;124m'\u001b[39m\u001b[38;5;124memail\u001b[39m\u001b[38;5;124m'\u001b[39m))\n",
      "\u001b[1;31mKeyError\u001b[0m: 'email'"
     ]
    }
   ],
   "source": [
    "emp={'eid':101,'name':'Rahul','sal':45000,'sal':46000}\n",
    "\n",
    "print(emp['eid'])  #101\n",
    "print(emp['name'])  #Rahul\n",
    "print(emp['email']) \n",
    "\n",
    "print(emp.get('eid'))\n",
    "print(emp.get('email'))"
   ]
  },
  {
   "cell_type": "code",
   "execution_count": 39,
   "id": "5d9e73f6-b13e-4e90-ae61-318b4bc63fe0",
   "metadata": {},
   "outputs": [
    {
     "name": "stdout",
     "output_type": "stream",
     "text": [
      "None\n",
      "rahul@gmail.com\n"
     ]
    }
   ],
   "source": [
    "emp={'eid':101,'name':'Rahul','sal':45000,'sal':46000}\n",
    "\n",
    "#print(emp['email'])  #key error \n",
    "print(emp.get('email')) #None\n",
    "print(emp.get('email','rahul@gmail.com'))"
   ]
  },
  {
   "cell_type": "code",
   "execution_count": 40,
   "id": "29ca72c4-ce25-4ae3-ac0b-50a59e6113ad",
   "metadata": {},
   "outputs": [
    {
     "name": "stdout",
     "output_type": "stream",
     "text": [
      "3\n"
     ]
    }
   ],
   "source": [
    "emp={'eid':101,'name':'Rahul','sal':45000,'sal':46000}\n",
    "\n",
    "print(len(emp))"
   ]
  },
  {
   "cell_type": "code",
   "execution_count": null,
   "id": "2e47baf0-553c-46b3-a23e-001583c7e8a0",
   "metadata": {},
   "outputs": [],
   "source": []
  }
 ],
 "metadata": {
  "kernelspec": {
   "display_name": "Python 3 (ipykernel)",
   "language": "python",
   "name": "python3"
  },
  "language_info": {
   "codemirror_mode": {
    "name": "ipython",
    "version": 3
   },
   "file_extension": ".py",
   "mimetype": "text/x-python",
   "name": "python",
   "nbconvert_exporter": "python",
   "pygments_lexer": "ipython3",
   "version": "3.12.2"
  }
 },
 "nbformat": 4,
 "nbformat_minor": 5
}
