{
 "cells": [
  {
   "cell_type": "code",
   "execution_count": 1,
   "id": "c6b73c50-3c05-49f9-a9fb-98a32d69ed7f",
   "metadata": {},
   "outputs": [
    {
     "name": "stdout",
     "output_type": "stream",
     "text": [
      "<class 'dict'>\n"
     ]
    }
   ],
   "source": [
    "ids={}\n",
    "print(type(ids))"
   ]
  },
  {
   "cell_type": "code",
   "execution_count": 2,
   "id": "82040be4-94d0-41d2-8fbe-d8f1972b948c",
   "metadata": {},
   "outputs": [
    {
     "name": "stdout",
     "output_type": "stream",
     "text": [
      "<class 'set'>\n"
     ]
    }
   ],
   "source": [
    "ids={101,102,103,104,101,102,103,104}\n",
    "print(type(ids))"
   ]
  },
  {
   "cell_type": "code",
   "execution_count": 3,
   "id": "99204b5b-c4a3-4127-b41d-9a38640dc970",
   "metadata": {},
   "outputs": [
    {
     "name": "stdout",
     "output_type": "stream",
     "text": [
      "{104, 101, 102, 103}\n"
     ]
    }
   ],
   "source": [
    "ids={101,102,103,104,101,102,103,104}\n",
    "print(ids)"
   ]
  },
  {
   "cell_type": "code",
   "execution_count": 4,
   "id": "be24dddc-1c67-4cd8-b518-ce0c0e69f8aa",
   "metadata": {},
   "outputs": [
    {
     "name": "stdout",
     "output_type": "stream",
     "text": [
      "104\n",
      "101\n",
      "102\n",
      "103\n"
     ]
    }
   ],
   "source": [
    "ids={101,102,103,104,101,102,103,104}\n",
    "\n",
    "#iterat set object\n",
    "for id in ids:\n",
    "    print(id)"
   ]
  },
  {
   "cell_type": "code",
   "execution_count": 3,
   "id": "a139e7a8-0484-4b40-b872-05262dc3d6d6",
   "metadata": {},
   "outputs": [
    {
     "name": "stdout",
     "output_type": "stream",
     "text": [
      "{101, 102, 103, 104, 105}\n",
      "{'d', 101, 102, 103, 104, 105, 106, 107, 'Deepak', 'a', 't', 'o', 'r', 'h'}\n"
     ]
    }
   ],
   "source": [
    "#update and delete operations\n",
    "\n",
    "ids={101,102,103,104}\n",
    "ids.add(105)\n",
    "print(ids)\n",
    "id2={105,106,107}\n",
    "s2={\"Deepak\"}\n",
    "ids.update(id2,s2,\"rathod\")\n",
    "print(ids)"
   ]
  },
  {
   "cell_type": "code",
   "execution_count": 6,
   "id": "cca9d540-9f5b-43f9-8471-3455f4a767de",
   "metadata": {},
   "outputs": [
    {
     "name": "stdout",
     "output_type": "stream",
     "text": [
      "{104, 101, 102}\n"
     ]
    }
   ],
   "source": [
    "ids={101,102,103,104}\n",
    "\n",
    "ids.remove(103)\n",
    "print(ids)"
   ]
  },
  {
   "cell_type": "code",
   "execution_count": 7,
   "id": "5ed1c7e0-e220-4431-bf3f-26b98a44aeb7",
   "metadata": {},
   "outputs": [
    {
     "ename": "KeyError",
     "evalue": "501",
     "output_type": "error",
     "traceback": [
      "\u001b[1;31m---------------------------------------------------------------------------\u001b[0m",
      "\u001b[1;31mKeyError\u001b[0m                                  Traceback (most recent call last)",
      "Cell \u001b[1;32mIn[7], line 3\u001b[0m\n\u001b[0;32m      1\u001b[0m ids\u001b[38;5;241m=\u001b[39m{\u001b[38;5;241m101\u001b[39m,\u001b[38;5;241m102\u001b[39m,\u001b[38;5;241m103\u001b[39m,\u001b[38;5;241m104\u001b[39m}\n\u001b[1;32m----> 3\u001b[0m \u001b[43mids\u001b[49m\u001b[38;5;241;43m.\u001b[39;49m\u001b[43mremove\u001b[49m\u001b[43m(\u001b[49m\u001b[38;5;241;43m501\u001b[39;49m\u001b[43m)\u001b[49m\n\u001b[0;32m      4\u001b[0m \u001b[38;5;28mprint\u001b[39m(ids)\n",
      "\u001b[1;31mKeyError\u001b[0m: 501"
     ]
    }
   ],
   "source": [
    "ids={101,102,103,104}\n",
    "\n",
    "ids.remove(501)  # if specifie elemetn not present in your set - return key error\n",
    "print(ids)"
   ]
  },
  {
   "cell_type": "code",
   "execution_count": 8,
   "id": "1ef47fba-abf2-45ec-a806-a57340403bb8",
   "metadata": {},
   "outputs": [
    {
     "name": "stdout",
     "output_type": "stream",
     "text": [
      "{104, 101, 102, 103}\n"
     ]
    }
   ],
   "source": [
    "ids={101,102,103,104}\n",
    "\n",
    "ids.discard(501)  # if specifie elemetn not present in your set -No error\n",
    "print(ids)"
   ]
  },
  {
   "cell_type": "code",
   "execution_count": 9,
   "id": "b2e9a74a-f9eb-4269-922c-4936ac4a712f",
   "metadata": {},
   "outputs": [
    {
     "name": "stdout",
     "output_type": "stream",
     "text": [
      "{101, 102, 103}\n"
     ]
    }
   ],
   "source": [
    "ids={101,102,103,104}\n",
    "\n",
    "ids.pop()  #remove the random element from set object.\n",
    "print(ids)"
   ]
  },
  {
   "cell_type": "code",
   "execution_count": 10,
   "id": "3a7c2c93-f6ca-4b92-8297-f4becefd687a",
   "metadata": {},
   "outputs": [
    {
     "name": "stdout",
     "output_type": "stream",
     "text": [
      "set()\n"
     ]
    }
   ],
   "source": [
    "ids={101,102,103,104}\n",
    "\n",
    "ids.clear()\n",
    "\n",
    "print(ids)"
   ]
  },
  {
   "cell_type": "code",
   "execution_count": null,
   "id": "9984d8b4-572c-4f61-bf16-b1fa3bce6309",
   "metadata": {},
   "outputs": [],
   "source": []
  },
  {
   "cell_type": "code",
   "execution_count": null,
   "id": "9849bf87-efa9-464f-ac61-d082981936de",
   "metadata": {},
   "outputs": [],
   "source": []
  }
 ],
 "metadata": {
  "kernelspec": {
   "display_name": "Python 3 (ipykernel)",
   "language": "python",
   "name": "python3"
  },
  "language_info": {
   "codemirror_mode": {
    "name": "ipython",
    "version": 3
   },
   "file_extension": ".py",
   "mimetype": "text/x-python",
   "name": "python",
   "nbconvert_exporter": "python",
   "pygments_lexer": "ipython3",
   "version": "3.9.7"
  }
 },
 "nbformat": 4,
 "nbformat_minor": 5
}
