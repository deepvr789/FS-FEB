{
 "cells": [
  {
   "cell_type": "code",
   "execution_count": 1,
   "id": "d85510d3-80d8-45f0-9faf-b37b0356a15f",
   "metadata": {},
   "outputs": [
    {
     "name": "stdout",
     "output_type": "stream",
     "text": [
      "<class 'list'>\n",
      "<class 'list'>\n"
     ]
    }
   ],
   "source": [
    "l1=[]  #empty list object\n",
    "l2=[10,20,30,10,20,40.5,\"Rahul\",True,(),{},{},None]\n",
    "print(type(l1))\n",
    "print(type(l2))\n"
   ]
  },
  {
   "cell_type": "code",
   "execution_count": 2,
   "id": "c13ba71f-809a-430a-908b-819ffa66972d",
   "metadata": {},
   "outputs": [
    {
     "ename": "TypeError",
     "evalue": "'int' object is not iterable",
     "output_type": "error",
     "traceback": [
      "\u001b[1;31m---------------------------------------------------------------------\u001b[0m",
      "\u001b[1;31mTypeError\u001b[0m                           Traceback (most recent call last)",
      "Cell \u001b[1;32mIn[2], line 3\u001b[0m\n\u001b[0;32m      1\u001b[0m \u001b[38;5;66;03m#create \u001b[39;00m\n\u001b[0;32m      2\u001b[0m l1\u001b[38;5;241m=\u001b[39m[\u001b[38;5;241m10\u001b[39m,\u001b[38;5;241m20\u001b[39m,\u001b[38;5;241m30\u001b[39m]\n\u001b[1;32m----> 3\u001b[0m l2\u001b[38;5;241m=\u001b[39m\u001b[38;5;28;43mlist\u001b[39;49m\u001b[43m(\u001b[49m\u001b[38;5;241;43m10\u001b[39;49m\u001b[43m)\u001b[49m\n",
      "\u001b[1;31mTypeError\u001b[0m: 'int' object is not iterable"
     ]
    }
   ],
   "source": [
    "#create \n",
    "l1=[10,20,30]\n",
    "l2=list(10)"
   ]
  },
  {
   "cell_type": "code",
   "execution_count": 3,
   "id": "62ecc212-f5d7-477e-a029-32d9dd7e92ed",
   "metadata": {},
   "outputs": [
    {
     "name": "stdout",
     "output_type": "stream",
     "text": [
      "[10, 20, 30]\n",
      "[10, 20, 30]\n",
      "[10, 20, 30]\n",
      "[0, 1, 2, 3, 4, 5, 6, 7, 8, 9]\n",
      "['R', 'a', 'h', 'u', 'l']\n"
     ]
    }
   ],
   "source": [
    "l1=list([10,20,30])\n",
    "l2=list((10,20,30))\n",
    "l3=list({10,20,30})\n",
    "l4=list(range(10))\n",
    "l5=list(\"Rahul\")\n",
    "print(l1)\n",
    "print(l2)\n",
    "print(l3)\n",
    "print(l4)\n",
    "print(l5)\n"
   ]
  },
  {
   "cell_type": "code",
   "execution_count": 5,
   "id": "6cd61850-7bb6-491f-b192-8b47f7c0ee34",
   "metadata": {},
   "outputs": [
    {
     "name": "stdin",
     "output_type": "stream",
     "text": [
      "Enter List Value: [10,20,30]\n"
     ]
    },
    {
     "name": "stdout",
     "output_type": "stream",
     "text": [
      "<class 'list'>\n"
     ]
    }
   ],
   "source": [
    "l1= eval(input(\"Enter List Value:\"))\n",
    "\n",
    "print(type(l1))"
   ]
  },
  {
   "cell_type": "code",
   "execution_count": 7,
   "id": "a256347d-20ad-4a21-8c17-1708f5ee6092",
   "metadata": {},
   "outputs": [
    {
     "name": "stdout",
     "output_type": "stream",
     "text": [
      "<class 'list'>\n",
      "['Rahul', 'Gandhi']\n"
     ]
    }
   ],
   "source": [
    "l1=\"Rahul Gandhi\".split()\n",
    "print(type(l1))\n",
    "print(l1)"
   ]
  },
  {
   "cell_type": "code",
   "execution_count": 9,
   "id": "fd9cde65-f7dc-45c3-8240-96a28f122f85",
   "metadata": {},
   "outputs": [
    {
     "name": "stdout",
     "output_type": "stream",
     "text": [
      "<class 'list'>\n"
     ]
    }
   ],
   "source": [
    "l1=[10,20,30]\n",
    "l2=l1.copy()\n",
    "\n",
    "print(type(l2))"
   ]
  },
  {
   "cell_type": "code",
   "execution_count": null,
   "id": "3d9dd74a-ea79-4381-a5d6-d485e2e17e5c",
   "metadata": {},
   "outputs": [],
   "source": []
  }
 ],
 "metadata": {
  "kernelspec": {
   "display_name": "Python 3 (ipykernel)",
   "language": "python",
   "name": "python3"
  },
  "language_info": {
   "codemirror_mode": {
    "name": "ipython",
    "version": 3
   },
   "file_extension": ".py",
   "mimetype": "text/x-python",
   "name": "python",
   "nbconvert_exporter": "python",
   "pygments_lexer": "ipython3",
   "version": "3.12.2"
  }
 },
 "nbformat": 4,
 "nbformat_minor": 5
}
