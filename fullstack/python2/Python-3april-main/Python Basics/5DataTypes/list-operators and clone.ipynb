{
 "cells": [
  {
   "cell_type": "code",
   "execution_count": 1,
   "id": "8c5f4183-1e16-4fb2-a244-4f4725ab8219",
   "metadata": {},
   "outputs": [
    {
     "name": "stdout",
     "output_type": "stream",
     "text": [
      "2510282800192\n",
      "2510282800192\n"
     ]
    }
   ],
   "source": [
    "l1=[10,20,30,40]\n",
    "l2=l1    #list aliasing\n",
    "print(id(l1))\n",
    "print(id(l2))"
   ]
  },
  {
   "cell_type": "code",
   "execution_count": 2,
   "id": "fe9f6f05-1a68-420c-b665-84931049c140",
   "metadata": {},
   "outputs": [
    {
     "name": "stdout",
     "output_type": "stream",
     "text": [
      "[10, 25, 30, 40]\n",
      "[10, 25, 30, 40]\n"
     ]
    }
   ],
   "source": [
    "#how to clone   the list object   = - aliasing . using copy method and slice operators\n",
    "\n",
    "l1=[10,20,30,40]\n",
    "l2=l1    #list aliasing\n",
    "l1[1] = 25\n",
    "print(l1)\n",
    "print(l2)\n",
    "\n"
   ]
  },
  {
   "cell_type": "code",
   "execution_count": 3,
   "id": "d85ed337-5bf7-4e82-80a0-15b7d5c19903",
   "metadata": {},
   "outputs": [
    {
     "name": "stdout",
     "output_type": "stream",
     "text": [
      "[10, 20, 30, 40]\n",
      "[10, 20, 30, 40]\n",
      "[10, 20, 30, 40]\n",
      "2510282836800\n",
      "2510282800448\n",
      "2510282836032\n"
     ]
    }
   ],
   "source": [
    "#how to clone   the list object  \n",
    "l1=[10,20,30,40]\n",
    "l2=l1.copy()\n",
    "l3=l1[:]\n",
    "\n",
    "print(l1)\n",
    "print(l2)\n",
    "print(l3)\n",
    "\n",
    "print(id(l1))\n",
    "print(id(l2))\n",
    "print(id(l3))\n"
   ]
  },
  {
   "cell_type": "code",
   "execution_count": 4,
   "id": "fad03371-03c6-4101-8383-55da654047c0",
   "metadata": {},
   "outputs": [
    {
     "name": "stdout",
     "output_type": "stream",
     "text": [
      "[10, 20, 30, 40]\n",
      "[10, 29, 30, 40]\n",
      "[10, 20, 30, 40]\n"
     ]
    }
   ],
   "source": [
    "l1=[10,20,30,40]\n",
    "l2=l1.copy()\n",
    "l3=l1[:]\n",
    "\n",
    "l2[1] = 29\n",
    "\n",
    "print(l1)\n",
    "print(l2)\n",
    "print(l3)"
   ]
  },
  {
   "cell_type": "code",
   "execution_count": 5,
   "id": "98fffed8-6ca2-4408-ad53-671231333c98",
   "metadata": {},
   "outputs": [
    {
     "name": "stdout",
     "output_type": "stream",
     "text": [
      "['Rahul', 'Sonia', 'Priyanka', 'Modi', 'Amith', 'KCR']\n",
      "['Priyanka', 'Modi', 'Amith']\n"
     ]
    }
   ],
   "source": [
    "enames=['Rahul','Sonia','Priyanka','Modi','Amith','KCR']\n",
    "# index   0        1           2       3    4       5\n",
    "#what is slice operator\n",
    "\n",
    "#new_enames=enames[2:5]\n",
    "new_enames=enames[:]\n",
    "\n",
    "print(enames)\n",
    "print(new_enames)"
   ]
  },
  {
   "cell_type": "code",
   "execution_count": 6,
   "id": "ab7c039d-2649-4892-9f76-c8a3a001e5ed",
   "metadata": {},
   "outputs": [
    {
     "name": "stdout",
     "output_type": "stream",
     "text": [
      "['Rahul', 'Sonia', 'Priyanka', 'Modi', 'Amith', 'KCR', 'Rushi', 'Chai']\n"
     ]
    }
   ],
   "source": [
    "enames=['Rahul','Sonia','Priyanka','Modi','Amith','KCR']\n",
    "new_names=['Rushi','Chai']\n",
    "\n",
    "print(enames+new_names)\n"
   ]
  },
  {
   "cell_type": "code",
   "execution_count": 10,
   "id": "4efc8a47-aae8-4b5e-a1a6-cbb57fc41968",
   "metadata": {},
   "outputs": [
    {
     "name": "stdout",
     "output_type": "stream",
     "text": [
      "['Rahul', 'Sonia', 'Priyanka', 'Modi', 'Amith', 'KCR', 'Rahul', 'Sonia', 'Priyanka', 'Modi', 'Amith', 'KCR', 'Rahul', 'Sonia', 'Priyanka', 'Modi', 'Amith', 'KCR']\n"
     ]
    }
   ],
   "source": [
    "enames=['Rahul','Sonia','Priyanka','Modi','Amith','KCR']\n",
    "print(enames*3)"
   ]
  },
  {
   "cell_type": "code",
   "execution_count": null,
   "id": "b5b24b06-d500-45dc-a25a-05133a056331",
   "metadata": {},
   "outputs": [],
   "source": []
  }
 ],
 "metadata": {
  "kernelspec": {
   "display_name": "Python 3 (ipykernel)",
   "language": "python",
   "name": "python3"
  },
  "language_info": {
   "codemirror_mode": {
    "name": "ipython",
    "version": 3
   },
   "file_extension": ".py",
   "mimetype": "text/x-python",
   "name": "python",
   "nbconvert_exporter": "python",
   "pygments_lexer": "ipython3",
   "version": "3.12.2"
  }
 },
 "nbformat": 4,
 "nbformat_minor": 5
}
