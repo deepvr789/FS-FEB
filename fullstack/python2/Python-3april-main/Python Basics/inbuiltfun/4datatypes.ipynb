{
 "cells": [
  {
   "cell_type": "code",
   "execution_count": 8,
   "id": "2ee9c2b8-7dd5-4613-ba96-b215781e7e72",
   "metadata": {},
   "outputs": [
    {
     "name": "stdout",
     "output_type": "stream",
     "text": [
      "<class 'int'>\n",
      "<class 'str'>\n",
      "('Rahul', 10, '20', 30)\n",
      "<class 'tuple'>\n"
     ]
    }
   ],
   "source": [
    "#create - operation\n",
    "eid=101\n",
    "ename=\"Rahul\"\n",
    "#name = \"Rahul\" 10   \n",
    "x = \"Rahul\", 10, \"20\",30\n",
    "\n",
    "print(type(eid))\n",
    "print(type(ename))\n",
    "#print(type(name))\n",
    "print(x)\n",
    "print(type(x))"
   ]
  },
  {
   "cell_type": "code",
   "execution_count": 10,
   "id": "7ab1baf5-c040-4a51-8f18-c48fff1c97fe",
   "metadata": {},
   "outputs": [
    {
     "name": "stdout",
     "output_type": "stream",
     "text": [
      "10\n",
      "20\n",
      "30\n"
     ]
    }
   ],
   "source": [
    "#JS\n",
    "#var a = 10,20,30    - Syntax Error\n",
    "#Java\n",
    "#int a = 10,20,30;   - Compile Error\n",
    "\n",
    "#Python - possible\n",
    "a,b,c = 10,20,30    \n",
    "\n",
    "print(a)\n",
    "print(b)\n",
    "print(c)"
   ]
  },
  {
   "cell_type": "code",
   "execution_count": 13,
   "id": "47acdfa9-f7bc-4589-ba53-f0762f581598",
   "metadata": {},
   "outputs": [
    {
     "name": "stdout",
     "output_type": "stream",
     "text": [
      "[101, 102, 103, 104]\n",
      "101\n",
      "102\n",
      "103\n",
      "[401, 102, 103, 104]\n"
     ]
    }
   ],
   "source": [
    "#What is list and list() function\n",
    "#how many ways we can create list object?\n",
    "#create\n",
    "ids=[101,102,103,104]\n",
    "#read \n",
    "print(ids)\n",
    "#how to read list elements? using indexing\n",
    "print(ids[0])\n",
    "print(ids[1])\n",
    "print(ids[2])\n",
    "\n",
    "#update \n",
    "ids[0]  = 401\n",
    "print(ids)\n",
    "\n",
    "#delete"
   ]
  },
  {
   "cell_type": "code",
   "execution_count": 15,
   "id": "16394a58-c5e7-4467-a29b-855610bdb4f6",
   "metadata": {},
   "outputs": [
    {
     "name": "stdout",
     "output_type": "stream",
     "text": [
      "<class 'list'>\n",
      "<class 'tuple'>\n",
      "<class 'set'>\n",
      "<class 'dict'>\n"
     ]
    }
   ],
   "source": [
    "enames=[]\n",
    "names=()\n",
    "\n",
    "ids={101,102,103,103,101,102,103,104} \n",
    "\n",
    "eid={'id':101, 'name':'Rahul Gandhi'}\n",
    "\n",
    "print(type(enames))\n",
    "print(type(names))\n",
    "print(type(ids))\n",
    "print(type(eid))"
   ]
  },
  {
   "cell_type": "code",
   "execution_count": null,
   "id": "6ceadd73-454d-4272-bcaa-b994bf36410a",
   "metadata": {},
   "outputs": [],
   "source": []
  }
 ],
 "metadata": {
  "kernelspec": {
   "display_name": "Python 3 (ipykernel)",
   "language": "python",
   "name": "python3"
  },
  "language_info": {
   "codemirror_mode": {
    "name": "ipython",
    "version": 3
   },
   "file_extension": ".py",
   "mimetype": "text/x-python",
   "name": "python",
   "nbconvert_exporter": "python",
   "pygments_lexer": "ipython3",
   "version": "3.12.2"
  }
 },
 "nbformat": 4,
 "nbformat_minor": 5
}
