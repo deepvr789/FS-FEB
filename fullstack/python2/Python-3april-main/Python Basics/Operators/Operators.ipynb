{
 "cells": [
  {
   "cell_type": "code",
   "execution_count": 1,
   "id": "4f263cd0-f034-4479-a558-94754e58eb4c",
   "metadata": {},
   "outputs": [
    {
     "name": "stdout",
     "output_type": "stream",
     "text": [
      "True\n",
      "True\n"
     ]
    }
   ],
   "source": [
    "a=100\n",
    "b=100\n",
    "\n",
    "print(a is  b)\n",
    "print(a == b)"
   ]
  },
  {
   "cell_type": "code",
   "execution_count": 2,
   "id": "46a35dc7-f107-415d-9b25-2dc9a54e7448",
   "metadata": {},
   "outputs": [
    {
     "name": "stdout",
     "output_type": "stream",
     "text": [
      "True\n"
     ]
    }
   ],
   "source": [
    "print(\"Rahul\" in [\"Rahul\",\"Sonia\",\"Priyanka\"])"
   ]
  },
  {
   "cell_type": "code",
   "execution_count": 3,
   "id": "ed8582fd-dced-4342-80f8-1315d260a9e7",
   "metadata": {},
   "outputs": [
    {
     "name": "stdout",
     "output_type": "stream",
     "text": [
      "False\n"
     ]
    }
   ],
   "source": [
    "print(\"Rahul Gandhi\" in [\"Rahul\",\"Sonia\",\"Priyanka\"])"
   ]
  },
  {
   "cell_type": "code",
   "execution_count": 4,
   "id": "7d1827aa-15cc-4bf9-9ba4-26fb69532548",
   "metadata": {},
   "outputs": [
    {
     "name": "stdout",
     "output_type": "stream",
     "text": [
      "True\n"
     ]
    }
   ],
   "source": [
    "print( 'R'  in 'Rahul')"
   ]
  },
  {
   "cell_type": "code",
   "execution_count": 5,
   "id": "241c9492-29c7-4591-a81e-9262dc1e0084",
   "metadata": {},
   "outputs": [
    {
     "name": "stdout",
     "output_type": "stream",
     "text": [
      "6\n"
     ]
    }
   ],
   "source": [
    "print(2*3)"
   ]
  },
  {
   "cell_type": "code",
   "execution_count": 6,
   "id": "bd1901b4-a96b-4a63-9104-8c910a06b806",
   "metadata": {},
   "outputs": [
    {
     "name": "stdout",
     "output_type": "stream",
     "text": [
      "33\n"
     ]
    }
   ],
   "source": [
    "print(2*  \"3\")"
   ]
  },
  {
   "cell_type": "code",
   "execution_count": 7,
   "id": "4b455073-ff74-4808-9a76-604a2eafb537",
   "metadata": {},
   "outputs": [
    {
     "name": "stdout",
     "output_type": "stream",
     "text": [
      "RahulRahul\n"
     ]
    }
   ],
   "source": [
    "print(2* \"Rahul\")"
   ]
  },
  {
   "cell_type": "code",
   "execution_count": null,
   "id": "8cb95f70-73f4-474e-8a6f-bc9696bd24e8",
   "metadata": {},
   "outputs": [],
   "source": []
  }
 ],
 "metadata": {
  "kernelspec": {
   "display_name": "Python 3 (ipykernel)",
   "language": "python",
   "name": "python3"
  },
  "language_info": {
   "codemirror_mode": {
    "name": "ipython",
    "version": 3
   },
   "file_extension": ".py",
   "mimetype": "text/x-python",
   "name": "python",
   "nbconvert_exporter": "python",
   "pygments_lexer": "ipython3",
   "version": "3.12.2"
  }
 },
 "nbformat": 4,
 "nbformat_minor": 5
}
