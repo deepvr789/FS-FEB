{
 "cells": [
  {
   "cell_type": "code",
   "execution_count": 1,
   "id": "e075abab-dc44-4a66-bd57-570da356bbf2",
   "metadata": {},
   "outputs": [
    {
     "name": "stdout",
     "output_type": "stream",
     "text": [
      "5.0\n"
     ]
    }
   ],
   "source": [
    "a=20\n",
    "b=4\n",
    "print(a/b)\n",
    "\n",
    "# Difference between / - division and //-floor division\n",
    "# / - division - always return floating point arithmatic\n",
    "#// - floor division - return integer  arithmatic and floating point arithmatic"
   ]
  },
  {
   "cell_type": "code",
   "execution_count": 2,
   "id": "55e987d3-47fb-4875-9402-5aefbb8663f6",
   "metadata": {},
   "outputs": [
    {
     "name": "stdout",
     "output_type": "stream",
     "text": [
      "5\n"
     ]
    }
   ],
   "source": [
    "a=20\n",
    "b=4\n",
    "print(a//b)"
   ]
  },
  {
   "cell_type": "code",
   "execution_count": 3,
   "id": "d39a0a52-8673-44f5-b561-0329a14c809d",
   "metadata": {},
   "outputs": [
    {
     "name": "stdout",
     "output_type": "stream",
     "text": [
      "5.0\n",
      "5.0\n"
     ]
    }
   ],
   "source": [
    "a=20.0\n",
    "b=4\n",
    "print(a/b)\n",
    "print(a//b)"
   ]
  },
  {
   "cell_type": "code",
   "execution_count": 4,
   "id": "ae14108c-f8e2-4320-8ec2-70ed61a23a1e",
   "metadata": {},
   "outputs": [
    {
     "name": "stdout",
     "output_type": "stream",
     "text": [
      "10\n",
      "50.0\n"
     ]
    }
   ],
   "source": [
    "a=5\n",
    "b=2\n",
    "c=10.0\n",
    "\n",
    "print(a*b)\n",
    "print(a*c)"
   ]
  },
  {
   "cell_type": "code",
   "execution_count": 5,
   "id": "1aaf9789-eac2-4977-bdc7-9910593f2562",
   "metadata": {},
   "outputs": [
    {
     "name": "stdout",
     "output_type": "stream",
     "text": [
      "RahulRahulRahulRahulRahul\n"
     ]
    }
   ],
   "source": [
    "a=5\n",
    "b=\"Rahul\"\n",
    "print(a*b)"
   ]
  },
  {
   "cell_type": "code",
   "execution_count": 6,
   "id": "a7dffe45-5bb2-4905-ba87-553eb4bdbde6",
   "metadata": {},
   "outputs": [
    {
     "ename": "TypeError",
     "evalue": "can't multiply sequence by non-int of type 'str'",
     "output_type": "error",
     "traceback": [
      "\u001b[1;31m---------------------------------------------------------------------------\u001b[0m",
      "\u001b[1;31mTypeError\u001b[0m                                 Traceback (most recent call last)",
      "Cell \u001b[1;32mIn[6], line 3\u001b[0m\n\u001b[0;32m      1\u001b[0m a\u001b[38;5;241m=\u001b[39m\u001b[38;5;124m\"\u001b[39m\u001b[38;5;124mten\u001b[39m\u001b[38;5;124m\"\u001b[39m\n\u001b[0;32m      2\u001b[0m b\u001b[38;5;241m=\u001b[39m\u001b[38;5;124m\"\u001b[39m\u001b[38;5;124mone\u001b[39m\u001b[38;5;124m\"\u001b[39m\n\u001b[1;32m----> 3\u001b[0m \u001b[38;5;28mprint\u001b[39m(\u001b[43ma\u001b[49m\u001b[38;5;241;43m*\u001b[39;49m\u001b[43mb\u001b[49m)\n",
      "\u001b[1;31mTypeError\u001b[0m: can't multiply sequence by non-int of type 'str'"
     ]
    }
   ],
   "source": [
    "a=\"ten\"\n",
    "b=\"one\"\n",
    "print(a*b)"
   ]
  },
  {
   "cell_type": "code",
   "execution_count": 7,
   "id": "b392b2fa-4cd3-4c64-9e21-efdfbffde038",
   "metadata": {},
   "outputs": [
    {
     "name": "stdout",
     "output_type": "stream",
     "text": [
      "70\n",
      "RahulGandhi\n"
     ]
    }
   ],
   "source": [
    "# + operator - acting as addition as addition and concatination\n",
    "\n",
    "a=30\n",
    "b=40\n",
    "c=\"Rahul\"\n",
    "d=\"Gandhi\"\n",
    "\n",
    "print(a+b)    # addition\n",
    "print(c+d)    #concatination\n"
   ]
  },
  {
   "cell_type": "code",
   "execution_count": 8,
   "id": "189178ce-e5af-4a36-987d-6bb0c8bf485d",
   "metadata": {},
   "outputs": [
    {
     "ename": "TypeError",
     "evalue": "unsupported operand type(s) for +: 'int' and 'str'",
     "output_type": "error",
     "traceback": [
      "\u001b[1;31m---------------------------------------------------------------------------\u001b[0m",
      "\u001b[1;31mTypeError\u001b[0m                                 Traceback (most recent call last)",
      "Cell \u001b[1;32mIn[8], line 6\u001b[0m\n\u001b[0;32m      3\u001b[0m c\u001b[38;5;241m=\u001b[39m\u001b[38;5;124m\"\u001b[39m\u001b[38;5;124mRahul\u001b[39m\u001b[38;5;124m\"\u001b[39m\n\u001b[0;32m      4\u001b[0m d\u001b[38;5;241m=\u001b[39m\u001b[38;5;124m\"\u001b[39m\u001b[38;5;124mGandhi\u001b[39m\u001b[38;5;124m\"\u001b[39m\n\u001b[1;32m----> 6\u001b[0m \u001b[38;5;28mprint\u001b[39m(\u001b[43ma\u001b[49m\u001b[38;5;241;43m+\u001b[39;49m\u001b[43mc\u001b[49m)\n\u001b[0;32m      7\u001b[0m \u001b[38;5;28mprint\u001b[39m(a\u001b[38;5;241m*\u001b[39mc)\n",
      "\u001b[1;31mTypeError\u001b[0m: unsupported operand type(s) for +: 'int' and 'str'"
     ]
    }
   ],
   "source": [
    "a=30\n",
    "b=40\n",
    "c=\"Rahul\"\n",
    "d=\"Gandhi\"\n",
    "\n",
    "print(a+c)\n",
    "print(a*c)"
   ]
  },
  {
   "cell_type": "code",
   "execution_count": 9,
   "id": "a2df8c1e-c1f9-415e-b60f-4715b11ced68",
   "metadata": {},
   "outputs": [
    {
     "name": "stdout",
     "output_type": "stream",
     "text": [
      "RahulRahulRahulRahulRahulRahulRahulRahulRahulRahulRahulRahulRahulRahulRahulRahulRahulRahulRahulRahulRahulRahulRahulRahulRahulRahulRahulRahulRahulRahul\n"
     ]
    }
   ],
   "source": [
    "a=30\n",
    "b=40\n",
    "c=\"Rahul\"\n",
    "d=\"Gandhi\"\n",
    "\n",
    "print(a*c)"
   ]
  },
  {
   "cell_type": "code",
   "execution_count": 10,
   "id": "b5e11af0-ad08-4d95-bcbe-c3996497b830",
   "metadata": {},
   "outputs": [
    {
     "name": "stdout",
     "output_type": "stream",
     "text": [
      "8\n"
     ]
    }
   ],
   "source": [
    "print(2 ** 3)"
   ]
  },
  {
   "cell_type": "code",
   "execution_count": 12,
   "id": "fe3535e3-a74b-48fa-8584-adc8abf09895",
   "metadata": {},
   "outputs": [
    {
     "name": "stdout",
     "output_type": "stream",
     "text": [
      "11.313708498984761\n"
     ]
    }
   ],
   "source": [
    "print(2 ** 3.5)"
   ]
  },
  {
   "cell_type": "code",
   "execution_count": null,
   "id": "b7ba92f4-e700-4083-b7e6-9d49bc3ebf72",
   "metadata": {},
   "outputs": [],
   "source": [
    "print(56 ** 45)"
   ]
  },
  {
   "cell_type": "code",
   "execution_count": null,
   "id": "387609dc-60ad-4abf-8232-99ea133bd8e8",
   "metadata": {},
   "outputs": [],
   "source": [
    "print(56 ** 45)"
   ]
  },
  {
   "cell_type": "code",
   "execution_count": null,
   "id": "6175e306-b2b0-4b85-8a14-4f6281555882",
   "metadata": {},
   "outputs": [],
   "source": []
  }
 ],
 "metadata": {
  "kernelspec": {
   "display_name": "Python 3 (ipykernel)",
   "language": "python",
   "name": "python3"
  },
  "language_info": {
   "codemirror_mode": {
    "name": "ipython",
    "version": 3
   },
   "file_extension": ".py",
   "mimetype": "text/x-python",
   "name": "python",
   "nbconvert_exporter": "python",
   "pygments_lexer": "ipython3",
   "version": "3.12.2"
  }
 },
 "nbformat": 4,
 "nbformat_minor": 5
}
