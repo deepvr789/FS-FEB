{
 "cells": [
  {
   "cell_type": "code",
   "execution_count": 1,
   "id": "086d796c-00ed-409d-8055-ea4c66a8bc42",
   "metadata": {},
   "outputs": [
    {
     "name": "stdout",
     "output_type": "stream",
     "text": [
      "2025\n"
     ]
    }
   ],
   "source": [
    "print(45 ** 2)"
   ]
  },
  {
   "cell_type": "code",
   "execution_count": 2,
   "id": "2b538df8-27d3-4d2d-b7e7-a2ed010bd1f5",
   "metadata": {},
   "outputs": [
    {
     "name": "stdout",
     "output_type": "stream",
     "text": [
      "1159445329576199417209625244140625\n"
     ]
    }
   ],
   "source": [
    "print(45 ** 20)"
   ]
  },
  {
   "cell_type": "code",
   "execution_count": 3,
   "id": "5a790971-e602-4ac9-a8f5-5cc60bd24e15",
   "metadata": {},
   "outputs": [
    {
     "name": "stdout",
     "output_type": "stream",
     "text": [
      "4390386507968110038604608199456011046348285010325650981451027802961147815199984680040549679259101108340576731553339120079990548617672493714138172165452387556396009878927686730212366261701596409582142819939503088013977188786061927228727565576429698898050071507460970361439508764976749223400177835063828979400568641722202301025390625\n"
     ]
    }
   ],
   "source": [
    "print(45 ** 200)"
   ]
  },
  {
   "cell_type": "code",
   "execution_count": 4,
   "id": "034c4187-989f-4a37-abcd-5a6ca9caf42d",
   "metadata": {},
   "outputs": [
    {
     "ename": "ValueError",
     "evalue": "Exceeds the limit (4300 digits) for integer string conversion; use sys.set_int_max_str_digits() to increase the limit",
     "output_type": "error",
     "traceback": [
      "\u001b[1;31m---------------------------------------------------------------------------\u001b[0m",
      "\u001b[1;31mValueError\u001b[0m                                Traceback (most recent call last)",
      "Cell \u001b[1;32mIn[4], line 1\u001b[0m\n\u001b[1;32m----> 1\u001b[0m \u001b[38;5;28;43mprint\u001b[39;49m\u001b[43m(\u001b[49m\u001b[38;5;241;43m45\u001b[39;49m\u001b[43m \u001b[49m\u001b[38;5;241;43m*\u001b[39;49m\u001b[38;5;241;43m*\u001b[39;49m\u001b[43m \u001b[49m\u001b[38;5;241;43m20000\u001b[39;49m\u001b[43m)\u001b[49m\n",
      "\u001b[1;31mValueError\u001b[0m: Exceeds the limit (4300 digits) for integer string conversion; use sys.set_int_max_str_digits() to increase the limit"
     ]
    }
   ],
   "source": [
    "print(45 ** 20000)"
   ]
  },
  {
   "cell_type": "code",
   "execution_count": null,
   "id": "ef216140-a5ac-431b-8fda-9443ee32aa35",
   "metadata": {},
   "outputs": [],
   "source": [
    "print(rahul)"
   ]
  }
 ],
 "metadata": {
  "kernelspec": {
   "display_name": "Python 3 (ipykernel)",
   "language": "python",
   "name": "python3"
  },
  "language_info": {
   "codemirror_mode": {
    "name": "ipython",
    "version": 3
   },
   "file_extension": ".py",
   "mimetype": "text/x-python",
   "name": "python",
   "nbconvert_exporter": "python",
   "pygments_lexer": "ipython3",
   "version": "3.12.2"
  }
 },
 "nbformat": 4,
 "nbformat_minor": 5
}
