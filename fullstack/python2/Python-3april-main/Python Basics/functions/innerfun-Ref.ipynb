{
 "cells": [
  {
   "cell_type": "code",
   "execution_count": 1,
   "id": "74718c5c-2a26-4622-8030-26b2a23b3ba2",
   "metadata": {},
   "outputs": [
    {
     "name": "stdout",
     "output_type": "stream",
     "text": [
      "100\n",
      "<class 'int'>\n"
     ]
    }
   ],
   "source": [
    "def outer():\n",
    "    pass\n",
    "    def inner():\n",
    "        pass\n",
    "    return 100\n",
    "\n",
    "a=outer()\n",
    "\n",
    "print(a)\n",
    "print(type(a))\n"
   ]
  },
  {
   "cell_type": "code",
   "execution_count": 2,
   "id": "3d064637-8e24-4590-b65e-207cf3b51dab",
   "metadata": {},
   "outputs": [
    {
     "name": "stdout",
     "output_type": "stream",
     "text": [
      "<function outer.<locals>.inner at 0x000002C592C08680>\n",
      "<class 'function'>\n"
     ]
    }
   ],
   "source": [
    "def outer():\n",
    "    pass\n",
    "    def inner():\n",
    "        pass\n",
    "    return inner\n",
    "\n",
    "a=outer()\n",
    "\n",
    "print(a)\n",
    "print(type(a))"
   ]
  },
  {
   "cell_type": "code",
   "execution_count": 5,
   "id": "8eef581a-4783-4312-8823-f0cd40fa2d42",
   "metadata": {},
   "outputs": [
    {
     "name": "stdout",
     "output_type": "stream",
     "text": [
      "Outer Function\n",
      "Inner Function\n",
      "Inner Function\n",
      "Inner Function\n",
      "Inner Function\n",
      "Inner Function\n"
     ]
    }
   ],
   "source": [
    "def outer():\n",
    "    print(\"Outer Function\")\n",
    "    def inner():\n",
    "        print(\"Inner Function\")\n",
    "    return inner\n",
    "\n",
    "a=outer()\n",
    "a()\n",
    "a()\n",
    "a()\n",
    "\n",
    "a()\n",
    "a()"
   ]
  },
  {
   "cell_type": "code",
   "execution_count": 7,
   "id": "117fe13d-75df-4df3-a304-875fdfc94058",
   "metadata": {},
   "outputs": [
    {
     "name": "stdout",
     "output_type": "stream",
     "text": [
      "Outer Function\n"
     ]
    },
    {
     "data": {
      "text/plain": [
       "<function __main__.outer.<locals>.inner()>"
      ]
     },
     "execution_count": 7,
     "metadata": {},
     "output_type": "execute_result"
    }
   ],
   "source": [
    "def outer():\n",
    "    print(\"Outer Function\")\n",
    "    \n",
    "    def inner():\n",
    "        print(\"Inner Function\")\n",
    "    return inner\n",
    "\n",
    "outer()"
   ]
  },
  {
   "cell_type": "code",
   "execution_count": 9,
   "id": "6b43d5ce-0d06-44ce-8b81-fe8d39f88cd6",
   "metadata": {},
   "outputs": [
    {
     "name": "stdout",
     "output_type": "stream",
     "text": [
      "Outer Function\n",
      "Inner Function\n"
     ]
    }
   ],
   "source": [
    "def outer():\n",
    "    print(\"Outer Function\")\n",
    "    \n",
    "    def inner():\n",
    "        print(\"Inner Function\")\n",
    "    return inner\n",
    "\n",
    "inRef=outer()\n",
    "inRef()"
   ]
  },
  {
   "cell_type": "code",
   "execution_count": 11,
   "id": "2e9718c0-1733-4f78-849b-e021e0da8fe2",
   "metadata": {},
   "outputs": [
    {
     "name": "stdout",
     "output_type": "stream",
     "text": [
      "Outer Function\n",
      "Inner Function\n",
      "10\n"
     ]
    },
    {
     "ename": "TypeError",
     "evalue": "'int' object is not callable",
     "output_type": "error",
     "traceback": [
      "\u001b[1;31m---------------------------------------------------------------------------\u001b[0m",
      "\u001b[1;31mTypeError\u001b[0m                                 Traceback (most recent call last)",
      "Cell \u001b[1;32mIn[11], line 11\u001b[0m\n\u001b[0;32m      9\u001b[0m inRef\u001b[38;5;241m=\u001b[39mouter()\n\u001b[0;32m     10\u001b[0m \u001b[38;5;28mprint\u001b[39m(inRef)\n\u001b[1;32m---> 11\u001b[0m \u001b[43minRef\u001b[49m\u001b[43m(\u001b[49m\u001b[43m)\u001b[49m \u001b[38;5;66;03m# Error\u001b[39;00m\n",
      "\u001b[1;31mTypeError\u001b[0m: 'int' object is not callable"
     ]
    }
   ],
   "source": [
    "def outer():\n",
    "    print(\"Outer Function\")\n",
    "    \n",
    "    def inner():\n",
    "        print(\"Inner Function\")\n",
    "        return 10\n",
    "    return inner()\n",
    "\n",
    "inRef=outer()\n",
    "print(inRef)\n",
    "inRef() # Error"
   ]
  },
  {
   "cell_type": "code",
   "execution_count": 12,
   "id": "454ac69e-faef-4ae6-885d-5cef61b9ba6d",
   "metadata": {},
   "outputs": [
    {
     "ename": "TypeError",
     "evalue": "'int' object is not callable",
     "output_type": "error",
     "traceback": [
      "\u001b[1;31m---------------------------------------------------------------------------\u001b[0m",
      "\u001b[1;31mTypeError\u001b[0m                                 Traceback (most recent call last)",
      "Cell \u001b[1;32mIn[12], line 2\u001b[0m\n\u001b[0;32m      1\u001b[0m a\u001b[38;5;241m=\u001b[39m\u001b[38;5;241m10\u001b[39m\n\u001b[1;32m----> 2\u001b[0m \u001b[43ma\u001b[49m\u001b[43m(\u001b[49m\u001b[43m)\u001b[49m\n",
      "\u001b[1;31mTypeError\u001b[0m: 'int' object is not callable"
     ]
    }
   ],
   "source": [
    "a=10\n",
    "a()"
   ]
  },
  {
   "cell_type": "code",
   "execution_count": null,
   "id": "0b54e2b9-41f5-4412-a54a-48d02ceebb38",
   "metadata": {},
   "outputs": [],
   "source": []
  }
 ],
 "metadata": {
  "kernelspec": {
   "display_name": "Python 3 (ipykernel)",
   "language": "python",
   "name": "python3"
  },
  "language_info": {
   "codemirror_mode": {
    "name": "ipython",
    "version": 3
   },
   "file_extension": ".py",
   "mimetype": "text/x-python",
   "name": "python",
   "nbconvert_exporter": "python",
   "pygments_lexer": "ipython3",
   "version": "3.12.2"
  }
 },
 "nbformat": 4,
 "nbformat_minor": 5
}
