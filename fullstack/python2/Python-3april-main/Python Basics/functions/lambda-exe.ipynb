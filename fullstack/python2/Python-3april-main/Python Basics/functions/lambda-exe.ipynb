{
 "cells": [
  {
   "cell_type": "code",
   "execution_count": 4,
   "id": "5230c66b-7e90-4425-819d-e30f4c2d41e3",
   "metadata": {},
   "outputs": [
    {
     "name": "stdout",
     "output_type": "stream",
     "text": [
      "1\n",
      "2\n",
      "3\n",
      "4\n"
     ]
    },
    {
     "data": {
      "text/plain": [
       "[]"
      ]
     },
     "execution_count": 4,
     "metadata": {},
     "output_type": "execute_result"
    }
   ],
   "source": [
    "list(filter(lambda x:print(x), [1,2,3,4]))"
   ]
  },
  {
   "cell_type": "code",
   "execution_count": 8,
   "id": "999d6c82-17da-4f81-9bb1-9ea2b8b2f7e2",
   "metadata": {},
   "outputs": [
    {
     "name": "stdout",
     "output_type": "stream",
     "text": [
      "1\n",
      "2\n",
      "3\n",
      "4\n"
     ]
    },
    {
     "data": {
      "text/plain": [
       "(None, None, None, None)"
      ]
     },
     "execution_count": 8,
     "metadata": {},
     "output_type": "execute_result"
    }
   ],
   "source": [
    "tuple(map(lambda x:print(x), [1,2,3,4]))"
   ]
  },
  {
   "cell_type": "code",
   "execution_count": 10,
   "id": "fa35fb64-8b86-4577-8c05-f0ce16a811a8",
   "metadata": {},
   "outputs": [
    {
     "name": "stdout",
     "output_type": "stream",
     "text": [
      "[499, 99, 9, 299]\n"
     ]
    }
   ],
   "source": [
    "product_prices=[999,499,99,9,899,1999,299]\n",
    "filter_obj=filter(lambda price:price<500, product_prices)\n",
    "new_prices=list(filter_obj)\n",
    "print(new_prices)"
   ]
  },
  {
   "cell_type": "code",
   "execution_count": 11,
   "id": "19d69831-6e5f-4f3f-aae1-8c327ef015f0",
   "metadata": {},
   "outputs": [
    {
     "name": "stdout",
     "output_type": "stream",
     "text": [
      "[999, 499, 99, 9, 899, 1999, 299]\n",
      "[1000, 500, 100, 10, 900, 2000, 300]\n"
     ]
    }
   ],
   "source": [
    "product_prices=[999,499,99,9,899,1999,299]\n",
    "\n",
    "def add_one(price):\n",
    "    return price+1\n",
    "\n",
    "#add 1 Rs to every product\n",
    "\n",
    "new_prices=list(map(add_one,product_prices))\n",
    "print(product_prices)\n",
    "print(new_prices)"
   ]
  },
  {
   "cell_type": "code",
   "execution_count": 13,
   "id": "7c61236a-26e3-43f5-91d8-2413722e7ec8",
   "metadata": {},
   "outputs": [
    {
     "name": "stdout",
     "output_type": "stream",
     "text": [
      "[1000, 500, 100, 10, 900, 2000, 300]\n"
     ]
    }
   ],
   "source": [
    "product_prices=[999,499,99,9,899,1999,299]\n",
    "\n",
    "map_obj=map(lambda price:price+1,product_prices)\n",
    "new_prices=list(map_obj)\n",
    "print(new_prices)\n",
    "\n",
    "#print(list(map(lambda price:price+1,product_prices)))"
   ]
  },
  {
   "cell_type": "code",
   "execution_count": null,
   "id": "b9ca3cbc-c9df-4203-92a1-801c8168c6ae",
   "metadata": {},
   "outputs": [],
   "source": []
  }
 ],
 "metadata": {
  "kernelspec": {
   "display_name": "Python 3 (ipykernel)",
   "language": "python",
   "name": "python3"
  },
  "language_info": {
   "codemirror_mode": {
    "name": "ipython",
    "version": 3
   },
   "file_extension": ".py",
   "mimetype": "text/x-python",
   "name": "python",
   "nbconvert_exporter": "python",
   "pygments_lexer": "ipython3",
   "version": "3.12.2"
  }
 },
 "nbformat": 4,
 "nbformat_minor": 5
}
