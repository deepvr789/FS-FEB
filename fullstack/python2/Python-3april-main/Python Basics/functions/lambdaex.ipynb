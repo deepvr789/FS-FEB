{
 "cells": [
  {
   "cell_type": "code",
   "execution_count": 1,
   "id": "4d0e169f-ddc0-4b71-a941-989172a6686f",
   "metadata": {},
   "outputs": [
    {
     "name": "stdout",
     "output_type": "stream",
     "text": [
      "30\n"
     ]
    }
   ],
   "source": [
    "def add(a,b):\n",
    "    return a+b\n",
    "\n",
    "\n",
    "r1 = add(10,20)\n",
    "print(r1)"
   ]
  },
  {
   "cell_type": "code",
   "execution_count": 3,
   "id": "544ddf24-035a-440e-baa6-51a5bf364119",
   "metadata": {},
   "outputs": [
    {
     "name": "stdout",
     "output_type": "stream",
     "text": [
      "30\n",
      "300\n"
     ]
    }
   ],
   "source": [
    "# lambda agruments:expression\n",
    "add =lambda a,b:a+b\n",
    "\n",
    "r1=add(10,20)\n",
    "print(r1)\n",
    "r2=add(100,200)\n",
    "print(r2)\n"
   ]
  },
  {
   "cell_type": "code",
   "execution_count": 4,
   "id": "e5c97809-c8f2-4f54-a263-e8daacc2621c",
   "metadata": {},
   "outputs": [
    {
     "name": "stdout",
     "output_type": "stream",
     "text": [
      "41\n"
     ]
    }
   ],
   "source": [
    "def cal_age(year):\n",
    "    return 2024-year\n",
    "\n",
    "age = cal_age(1983)\n",
    "print(age)"
   ]
  },
  {
   "cell_type": "code",
   "execution_count": 5,
   "id": "4d447cf4-63b3-4649-b31c-137b0f962c65",
   "metadata": {},
   "outputs": [
    {
     "name": "stdout",
     "output_type": "stream",
     "text": [
      "22\n",
      "41\n"
     ]
    }
   ],
   "source": [
    "cal_age=lambda year:2024-year\n",
    "print(cal_age(2002))\n",
    "print(cal_age(1983))"
   ]
  },
  {
   "cell_type": "code",
   "execution_count": 7,
   "id": "3e213654-ee58-4fb5-a347-de180f113ba9",
   "metadata": {},
   "outputs": [
    {
     "name": "stdout",
     "output_type": "stream",
     "text": [
      "<map object at 0x0000028E1F40B9D0>\n",
      "[35, 36, 37, 38]\n"
     ]
    }
   ],
   "source": [
    "#map(function,seq),filter(function,seq),reducer(function,seq)****\n",
    "\n",
    "def addone(mark):\n",
    "    return mark+1\n",
    "    \n",
    "map_result=map(addone,[34,35,36,37])\n",
    "\n",
    "print(map_result)\n",
    "print(list(map_result))"
   ]
  },
  {
   "cell_type": "code",
   "execution_count": 8,
   "id": "5d87354e-8558-4ded-98b5-36fad6282216",
   "metadata": {},
   "outputs": [
    {
     "name": "stdout",
     "output_type": "stream",
     "text": [
      "[35, 36, 37, 38]\n"
     ]
    }
   ],
   "source": [
    "print(list(map(lambda m:m+1,[34,35,36,37])))"
   ]
  },
  {
   "cell_type": "code",
   "execution_count": 9,
   "id": "e4e5ee3d-781b-4bdb-9a55-4f1ab1da043d",
   "metadata": {},
   "outputs": [
    {
     "name": "stdout",
     "output_type": "stream",
     "text": [
      "RAHUL\n"
     ]
    }
   ],
   "source": [
    "def uppercase(name):\n",
    "    return name.upper()\n",
    "\n",
    "name=uppercase(\"rahul\")\n",
    "print(name)"
   ]
  },
  {
   "cell_type": "code",
   "execution_count": 10,
   "id": "4bda3c86-ad0b-428e-be43-aeb59388c64a",
   "metadata": {},
   "outputs": [
    {
     "name": "stdout",
     "output_type": "stream",
     "text": [
      "['rahul', 'sonia', 'priya']\n",
      "['RAHUL', 'SONIA', 'PRIYA']\n"
     ]
    }
   ],
   "source": [
    "enames=['rahul','sonia','priya']\n",
    "\n",
    "def uppercase(name):\n",
    "    return name.upper()\n",
    "\n",
    "\n",
    "map_ref=map(uppercase,enames)\n",
    "\n",
    "new_enames=list(map_ref)\n",
    "print(enames)\n",
    "print(new_enames)"
   ]
  },
  {
   "cell_type": "code",
   "execution_count": 12,
   "id": "d5f9e8c7-665b-492b-a87c-1bd13d54f867",
   "metadata": {},
   "outputs": [
    {
     "name": "stdout",
     "output_type": "stream",
     "text": [
      "['rahul', 'sonia', 'priya']\n",
      "['RAHUL', 'SONIA', 'PRIYA']\n"
     ]
    }
   ],
   "source": [
    "enames=['rahul','sonia','priya']\n",
    "'''\n",
    "def uppercase(name):\n",
    "    return name.upper()\n",
    "'''\n",
    "\n",
    "new_enames=list(map(lambda name:name.upper(),enames))\n",
    "\n",
    "\n",
    "print(enames)\n",
    "print(new_enames)"
   ]
  },
  {
   "cell_type": "code",
   "execution_count": 13,
   "id": "5553c6f1-6f22-49ea-aea2-8da808e7fb8b",
   "metadata": {},
   "outputs": [
    {
     "name": "stdout",
     "output_type": "stream",
     "text": [
      "[20, 40, 60, 80]\n"
     ]
    }
   ],
   "source": [
    "numbers=[10,20,30,40]\n",
    "#Expected Result [20,40,60,80]\n",
    "new_numbers=list(map(lambda num:num*2,numbers))\n",
    "print(new_numbers)"
   ]
  },
  {
   "cell_type": "code",
   "execution_count": 14,
   "id": "a33cb52c-b67b-4ea9-84ec-a56f42ca5b84",
   "metadata": {},
   "outputs": [
    {
     "name": "stdout",
     "output_type": "stream",
     "text": [
      "[10, 20, 30, 40]\n",
      "[20, 40, 60, 80]\n"
     ]
    }
   ],
   "source": [
    "numbers=[10,20,30,40]\n",
    "\n",
    "def doubleit(num):\n",
    "    return num*2\n",
    "new_numbers=list(map(doubleit,numbers))\n",
    "print(numbers)\n",
    "print(new_numbers)"
   ]
  },
  {
   "cell_type": "code",
   "execution_count": 15,
   "id": "19ad7280-f7df-4c63-87d9-8636f380de49",
   "metadata": {},
   "outputs": [
    {
     "name": "stdout",
     "output_type": "stream",
     "text": [
      "[2, 4, 6, 8]\n"
     ]
    }
   ],
   "source": [
    "print(list(filter(lambda num:num%2 ==0, [1,2,3,4,5,6,7,8])))"
   ]
  },
  {
   "cell_type": "code",
   "execution_count": 16,
   "id": "381ff0a5-6b88-42ce-8201-230678da481f",
   "metadata": {},
   "outputs": [
    {
     "name": "stdout",
     "output_type": "stream",
     "text": [
      "[2, 4, 6, 8]\n"
     ]
    }
   ],
   "source": [
    "numbers= [1,2,3,4,5,6,7,8]\n",
    "\n",
    "def even_numbers(num):\n",
    "    return num %2 ==0\n",
    "\n",
    "filter_obj=filter(even_numbers,numbers)\n",
    "new_numbers=list(filter_obj)\n",
    "print(new_numbers)"
   ]
  },
  {
   "cell_type": "code",
   "execution_count": null,
   "id": "59223627-88d2-43a9-a956-9bd74d9191bf",
   "metadata": {},
   "outputs": [],
   "source": []
  }
 ],
 "metadata": {
  "kernelspec": {
   "display_name": "Python 3 (ipykernel)",
   "language": "python",
   "name": "python3"
  },
  "language_info": {
   "codemirror_mode": {
    "name": "ipython",
    "version": 3
   },
   "file_extension": ".py",
   "mimetype": "text/x-python",
   "name": "python",
   "nbconvert_exporter": "python",
   "pygments_lexer": "ipython3",
   "version": "3.12.2"
  }
 },
 "nbformat": 4,
 "nbformat_minor": 5
}
