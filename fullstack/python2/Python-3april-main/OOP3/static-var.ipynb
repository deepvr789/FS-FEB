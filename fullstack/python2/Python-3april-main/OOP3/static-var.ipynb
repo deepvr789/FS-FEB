{
 "cells": [
  {
   "cell_type": "code",
   "execution_count": 3,
   "id": "6331eaf2-1aa4-4cb3-bdf9-78639a308a05",
   "metadata": {},
   "outputs": [
    {
     "name": "stdout",
     "output_type": "stream",
     "text": [
      "{}\n",
      "{}\n",
      "{'__module__': '__main__', 'org_name': 'TCS', '__init__': <function Test.__init__ at 0x0000025DBF718400>, 'm1': <function Test.m1 at 0x0000025DBF7185E0>, 'm2': <staticmethod(<function Test.m2 at 0x0000025DBF7187C0>)>, '__dict__': <attribute '__dict__' of 'Test' objects>, '__weakref__': <attribute '__weakref__' of 'Test' objects>, '__doc__': None}\n"
     ]
    }
   ],
   "source": [
    "class Test:\n",
    "    \n",
    "    org_name=\"TCS\"\n",
    "    \n",
    "    def __init__(self):\n",
    "        pass\n",
    "    def m1(self):\n",
    "        pass\n",
    "    @classmethod\n",
    "    def m2(cls):\n",
    "        pass\n",
    "    @staticmethod\n",
    "    def m2():\n",
    "        pass\n",
    "\n",
    "t1=Test()\n",
    "\n",
    "t2=Test()\n",
    "\n",
    "print(t1.__dict__)\n",
    "print(t2.__dict__)\n",
    "print(Test.__dict__)"
   ]
  },
  {
   "cell_type": "code",
   "execution_count": 4,
   "id": "d462e7af-4492-4d44-90c0-10f4a8182787",
   "metadata": {},
   "outputs": [
    {
     "name": "stdout",
     "output_type": "stream",
     "text": [
      "{'__module__': '__main__', '__dict__': <attribute '__dict__' of 'Employee' objects>, '__weakref__': <attribute '__weakref__' of 'Employee' objects>, '__doc__': None}\n",
      "{}\n",
      "{}\n"
     ]
    }
   ],
   "source": [
    "#What is static varaible\n",
    "'''\n",
    "  1) inside class, outside methods- directly\n",
    "  2) inside constructor, using class name \n",
    "  3) inside instance method, using class name, \n",
    "  4) inside class method, using class name , cls \n",
    "\n",
    "  5)inside static method , using class name \n",
    "\n",
    "  6) out side a class, using class name \n",
    "'''\n",
    "class Employee:\n",
    "    pass\n",
    "\n",
    "\n",
    "e1=Employee()\n",
    "e2=Employee()\n",
    "\n",
    "print(Employee.__dict__)\n",
    "print(e1.__dict__)\n",
    "print(e2.__dict__)"
   ]
  },
  {
   "cell_type": "code",
   "execution_count": 5,
   "id": "af0a64f1-e239-4b44-b791-550adcbbdfe4",
   "metadata": {},
   "outputs": [
    {
     "name": "stdout",
     "output_type": "stream",
     "text": [
      "{'__module__': '__main__', '__init__': <function Employee.__init__ at 0x0000025DBF718FE0>, 'm1': <function Employee.m1 at 0x0000025DBF7189A0>, 'm2': <classmethod(<function Employee.m2 at 0x0000025DBF718CC0>)>, 'm3': <staticmethod(<function Employee.m3 at 0x0000025DBF718C20>)>, '__dict__': <attribute '__dict__' of 'Employee' objects>, '__weakref__': <attribute '__weakref__' of 'Employee' objects>, '__doc__': None}\n",
      "{}\n",
      "{}\n"
     ]
    }
   ],
   "source": [
    "class Employee:\n",
    "    \n",
    "    def __init__(self):\n",
    "        pass \n",
    "    def m1(self):\n",
    "        pass\n",
    "    @classmethod\n",
    "    def m2(cls):\n",
    "        pass\n",
    "    @staticmethod\n",
    "    def m3():\n",
    "        pass\n",
    "\n",
    "\n",
    "e1=Employee()\n",
    "e2=Employee()\n",
    "\n",
    "print(Employee.__dict__)\n",
    "print(e1.__dict__)\n",
    "print(e2.__dict__)"
   ]
  },
  {
   "cell_type": "code",
   "execution_count": 7,
   "id": "76717d6b-9209-4749-a00d-7d27c838ce5f",
   "metadata": {},
   "outputs": [
    {
     "name": "stdout",
     "output_type": "stream",
     "text": [
      "{'__module__': '__main__', 'org_name': 'TCS', '__init__': <function Employee.__init__ at 0x0000025DBF719260>, 'm1': <function Employee.m1 at 0x0000025DBF719DA0>, 'm2': <classmethod(<function Employee.m2 at 0x0000025DBF71A200>)>, 'm3': <staticmethod(<function Employee.m3 at 0x0000025DBF7199E0>)>, '__dict__': <attribute '__dict__' of 'Employee' objects>, '__weakref__': <attribute '__weakref__' of 'Employee' objects>, '__doc__': None}\n"
     ]
    },
    {
     "data": {
      "text/plain": [
       "'\\ne1=Employee()\\ne1.m1()\\ne1.m2()\\ne1.m3()\\ne2=Employee()\\n\\nprint(Employee.__dict__)\\nprint(e1.__dict__)\\nprint(e2.__dict__)\\n\\n'"
      ]
     },
     "execution_count": 7,
     "metadata": {},
     "output_type": "execute_result"
    }
   ],
   "source": [
    "class Employee:\n",
    "    org_name=\"TCS\"\n",
    "    \n",
    "    def __init__(self):\n",
    "        pass \n",
    "    def m1(self):\n",
    "        pass\n",
    "    @classmethod\n",
    "    def m2(cls):\n",
    "        pass\n",
    "    @staticmethod\n",
    "    def m3():\n",
    "        pass\n",
    "\n",
    "\n",
    "print(Employee.__dict__)\n",
    "\n",
    "'''\n",
    "e1=Employee()\n",
    "e1.m1()\n",
    "e1.m2()\n",
    "e1.m3()\n",
    "e2=Employee()\n",
    "\n",
    "print(Employee.__dict__)\n",
    "print(e1.__dict__)\n",
    "print(e2.__dict__)\n",
    "\n",
    "'''"
   ]
  },
  {
   "cell_type": "code",
   "execution_count": 14,
   "id": "0f6d5fd4-f057-4469-a8b0-b8ee7414db0d",
   "metadata": {},
   "outputs": [
    {
     "name": "stdout",
     "output_type": "stream",
     "text": [
      "{'__module__': '__main__', 'org_name': 'TCS', '__init__': <function Employee.__init__ at 0x0000025DBF71BEC0>, 'm1': <function Employee.m1 at 0x0000025DBF7B00E0>, 'm2': <classmethod(<function Employee.m2 at 0x0000025DBF7B0180>)>, 'm3': <staticmethod(<function Employee.m3 at 0x0000025DBF7B0220>)>, '__dict__': <attribute '__dict__' of 'Employee' objects>, '__weakref__': <attribute '__weakref__' of 'Employee' objects>, '__doc__': None, 'discount': 10, 'loc': 'Bangalore', 'country': 'India', 'cc': 91, 'pincode': 560032, 'avail': True}\n",
      "{}\n",
      "{}\n"
     ]
    }
   ],
   "source": [
    "class Employee:\n",
    "    org_name=\"TCS\"\n",
    "    \n",
    "    def __init__(self):\n",
    "        Employee.loc = \"Bangalore\"\n",
    "    def m1(self):\n",
    "        Employee.country=\"India\"\n",
    "    @classmethod\n",
    "    def m2(cls):\n",
    "        Employee.cc = 91\n",
    "        cls.pincode = 560032\n",
    "    @staticmethod\n",
    "    def m3():\n",
    "        Employee.avail=True\n",
    "\n",
    "\n",
    "\n",
    "Employee.discount=10\n",
    "\n",
    "e1=Employee()\n",
    "e1.m1()\n",
    "e1.m2()\n",
    "e1.m3()\n",
    "\n",
    "print(Employee.__dict__)\n",
    "print(e1.__dict__)\n",
    "\n",
    "e2=Employee()\n",
    "\n",
    "print(e2.__dict__)\n"
   ]
  },
  {
   "cell_type": "code",
   "execution_count": null,
   "id": "c532c196-6fd0-4541-9b23-59724becf2a5",
   "metadata": {},
   "outputs": [],
   "source": []
  }
 ],
 "metadata": {
  "kernelspec": {
   "display_name": "Python 3 (ipykernel)",
   "language": "python",
   "name": "python3"
  },
  "language_info": {
   "codemirror_mode": {
    "name": "ipython",
    "version": 3
   },
   "file_extension": ".py",
   "mimetype": "text/x-python",
   "name": "python",
   "nbconvert_exporter": "python",
   "pygments_lexer": "ipython3",
   "version": "3.12.2"
  }
 },
 "nbformat": 4,
 "nbformat_minor": 5
}
