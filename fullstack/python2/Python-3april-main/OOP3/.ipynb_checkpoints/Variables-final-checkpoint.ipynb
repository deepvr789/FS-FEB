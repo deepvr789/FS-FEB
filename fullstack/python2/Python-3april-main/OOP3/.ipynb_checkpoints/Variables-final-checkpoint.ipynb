{
 "cells": [
  {
   "cell_type": "code",
   "execution_count": 1,
   "id": "69cc0a45-b8b5-4330-a2eb-542cbef3aed5",
   "metadata": {},
   "outputs": [
    {
     "name": "stdout",
     "output_type": "stream",
     "text": [
      "{}\n",
      "{}\n",
      "{'__module__': '__main__', '__dict__': <attribute '__dict__' of 'Test' objects>, '__weakref__': <attribute '__weakref__' of 'Test' objects>, '__doc__': None}\n"
     ]
    }
   ],
   "source": [
    "class Test:\n",
    "    pass\n",
    "\n",
    "\n",
    "t1=Test()\n",
    "t2=Test()\n",
    "\n",
    "print(t1.__dict__)\n",
    "print(t2.__dict__)\n",
    "print(Test.__dict__)"
   ]
  },
  {
   "cell_type": "code",
   "execution_count": 2,
   "id": "d52f9f5a-ed46-4f27-946a-9cc0fc10e5c5",
   "metadata": {},
   "outputs": [
    {
     "name": "stdout",
     "output_type": "stream",
     "text": [
      " Created by Narasimha , Learning Variable Topics \n"
     ]
    }
   ],
   "source": [
    "class Test:\n",
    "    ''' Created by Narasimha , Learning Variable Topics '''\n",
    "    pass\n",
    "\n",
    "print(Test.__doc__)\n"
   ]
  },
  {
   "cell_type": "code",
   "execution_count": 3,
   "id": "3c4fc3b7-f57f-4dd0-8173-3c759c6dc5a5",
   "metadata": {},
   "outputs": [
    {
     "name": "stdout",
     "output_type": "stream",
     "text": [
      "{'a': 100}\n",
      "{'a': 100}\n",
      "{'__module__': '__main__', '__init__': <function Test.__init__ at 0x000002AF612F87C0>, '__dict__': <attribute '__dict__' of 'Test' objects>, '__weakref__': <attribute '__weakref__' of 'Test' objects>, '__doc__': None}\n"
     ]
    }
   ],
   "source": [
    "class Test:\n",
    "    def __init__(self):\n",
    "        self.a=100\n",
    "\n",
    "\n",
    "t1=Test()\n",
    "t2=Test()\n",
    "\n",
    "print(t1.__dict__)\n",
    "print(t2.__dict__)\n",
    "print(Test.__dict__)"
   ]
  },
  {
   "cell_type": "code",
   "execution_count": 4,
   "id": "25733105-e147-4836-a38c-0281a2aa1034",
   "metadata": {},
   "outputs": [
    {
     "name": "stdout",
     "output_type": "stream",
     "text": [
      "{'a': 100, 'b': 200}\n",
      "{'a': 100}\n",
      "{'__module__': '__main__', '__init__': <function Test.__init__ at 0x000002AF612F8360>, 'm1': <function Test.m1 at 0x000002AF612F8400>, '__dict__': <attribute '__dict__' of 'Test' objects>, '__weakref__': <attribute '__weakref__' of 'Test' objects>, '__doc__': None}\n"
     ]
    }
   ],
   "source": [
    "class Test:\n",
    "    def __init__(self):\n",
    "        self.a=100\n",
    "    def m1(self):\n",
    "        self.b=200\n",
    "\n",
    "t1=Test()\n",
    "t1.m1()\n",
    "t2=Test()\n",
    "\n",
    "print(t1.__dict__)\n",
    "\n",
    "print(t2.__dict__)\n",
    "print(Test.__dict__)"
   ]
  },
  {
   "cell_type": "code",
   "execution_count": 5,
   "id": "30e0d1cb-8e9c-4033-83f1-2ba70d51322a",
   "metadata": {},
   "outputs": [
    {
     "name": "stdout",
     "output_type": "stream",
     "text": [
      "{'a': 100, 'b': 200, 'c': 300}\n",
      "{'a': 100}\n",
      "{'__module__': '__main__', '__init__': <function Test.__init__ at 0x000002AF612F8860>, 'm1': <function Test.m1 at 0x000002AF612F8220>, '__dict__': <attribute '__dict__' of 'Test' objects>, '__weakref__': <attribute '__weakref__' of 'Test' objects>, '__doc__': None}\n"
     ]
    }
   ],
   "source": [
    "class Test:\n",
    "    def __init__(self):\n",
    "        self.a=100\n",
    "    def m1(self):\n",
    "        self.b=200\n",
    "\n",
    "t1=Test()\n",
    "t1.m1()\n",
    "t1.c=300\n",
    "t2=Test()\n",
    "\n",
    "print(t1.__dict__)\n",
    "\n",
    "print(t2.__dict__)\n",
    "print(Test.__dict__)"
   ]
  },
  {
   "cell_type": "code",
   "execution_count": 6,
   "id": "a6bbdb63-051e-4410-bfd6-480344d33b74",
   "metadata": {},
   "outputs": [
    {
     "name": "stdout",
     "output_type": "stream",
     "text": [
      "{'a': 100, 'b': 200, 'c': 300}\n",
      "{'a': 100, 'd': 400}\n",
      "{'__module__': '__main__', '__init__': <function Test.__init__ at 0x000002AF612F8540>, 'm1': <function Test.m1 at 0x000002AF612F8E00>, '__dict__': <attribute '__dict__' of 'Test' objects>, '__weakref__': <attribute '__weakref__' of 'Test' objects>, '__doc__': None}\n"
     ]
    }
   ],
   "source": [
    "class Test:\n",
    "    def __init__(self):\n",
    "        self.a=100\n",
    "    def m1(self):\n",
    "        self.b=200\n",
    "\n",
    "t1=Test()\n",
    "t1.m1()\n",
    "t1.c=300\n",
    "t2=Test()\n",
    "t2.d=400\n",
    "\n",
    "print(t1.__dict__)\n",
    "\n",
    "print(t2.__dict__)\n",
    "print(Test.__dict__)"
   ]
  },
  {
   "cell_type": "code",
   "execution_count": 8,
   "id": "b2b2e1a4-99a6-4241-a752-4d7fd33669df",
   "metadata": {},
   "outputs": [
    {
     "name": "stdout",
     "output_type": "stream",
     "text": [
      "{'b': 200}\n",
      "{'a': 100, 'd': 400}\n"
     ]
    }
   ],
   "source": [
    "#delete operation  - delete instance t1 - variable a.\n",
    "\n",
    "class Test:\n",
    "    def __init__(self):\n",
    "        self.a=100\n",
    "    def m1(self):\n",
    "        self.b=200\n",
    "\n",
    "t1=Test()\n",
    "t1.m1()\n",
    "t1.c=300\n",
    "t2=Test()\n",
    "t2.d=400\n",
    "\n",
    "del t1.a\n",
    "del t1.c\n",
    "\n",
    "print(t1.__dict__)\n",
    "print(t2.__dict__)"
   ]
  },
  {
   "cell_type": "code",
   "execution_count": null,
   "id": "7eeffec4-a27b-4ce4-9116-fa6c4e98cc51",
   "metadata": {},
   "outputs": [],
   "source": []
  }
 ],
 "metadata": {
  "kernelspec": {
   "display_name": "Python 3 (ipykernel)",
   "language": "python",
   "name": "python3"
  },
  "language_info": {
   "codemirror_mode": {
    "name": "ipython",
    "version": 3
   },
   "file_extension": ".py",
   "mimetype": "text/x-python",
   "name": "python",
   "nbconvert_exporter": "python",
   "pygments_lexer": "ipython3",
   "version": "3.12.2"
  }
 },
 "nbformat": 4,
 "nbformat_minor": 5
}
