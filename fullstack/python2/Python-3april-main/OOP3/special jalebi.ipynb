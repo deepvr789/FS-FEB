{
 "cells": [
  {
   "cell_type": "code",
   "execution_count": 1,
   "id": "45ed87b6-552f-4297-a6ff-d4b0dbafaf3e",
   "metadata": {},
   "outputs": [
    {
     "data": {
      "text/plain": [
       "<__main__.Test at 0x1d2c60e9d90>"
      ]
     },
     "execution_count": 1,
     "metadata": {},
     "output_type": "execute_result"
    }
   ],
   "source": [
    "class Test:\n",
    "    pass\n",
    "\n",
    "Test()\n",
    "Test()"
   ]
  },
  {
   "cell_type": "code",
   "execution_count": 2,
   "id": "68f857db-53c4-45ce-906b-2d039f64d334",
   "metadata": {},
   "outputs": [
    {
     "ename": "TypeError",
     "evalue": "Test() takes no arguments",
     "output_type": "error",
     "traceback": [
      "\u001b[1;31m---------------------------------------------------------------------------\u001b[0m",
      "\u001b[1;31mTypeError\u001b[0m                                 Traceback (most recent call last)",
      "Cell \u001b[1;32mIn[2], line 4\u001b[0m\n\u001b[0;32m      1\u001b[0m \u001b[38;5;28;01mclass\u001b[39;00m \u001b[38;5;21;01mTest\u001b[39;00m:\n\u001b[0;32m      2\u001b[0m     \u001b[38;5;28;01mpass\u001b[39;00m\n\u001b[1;32m----> 4\u001b[0m \u001b[43mTest\u001b[49m\u001b[43m(\u001b[49m\u001b[38;5;241;43m10\u001b[39;49m\u001b[43m,\u001b[49m\u001b[38;5;241;43m20\u001b[39;49m\u001b[43m,\u001b[49m\u001b[38;5;241;43m30\u001b[39;49m\u001b[43m)\u001b[49m\n",
      "\u001b[1;31mTypeError\u001b[0m: Test() takes no arguments"
     ]
    }
   ],
   "source": [
    "class Test:\n",
    "    pass\n",
    "\n",
    "Test(10,20,30)\n"
   ]
  },
  {
   "cell_type": "code",
   "execution_count": 5,
   "id": "d0fdc38f-e369-4d33-979c-ca6da2d1e660",
   "metadata": {},
   "outputs": [
    {
     "name": "stdout",
     "output_type": "stream",
     "text": [
      "Constructor - special method\n",
      "Constructor - special method\n"
     ]
    },
    {
     "data": {
      "text/plain": [
       "<__main__.Test at 0x1d2c619f770>"
      ]
     },
     "execution_count": 5,
     "metadata": {},
     "output_type": "execute_result"
    }
   ],
   "source": [
    "class Test:\n",
    "    def __init__(self):\n",
    "        print(\"Constructor - special method\")\n",
    "\n",
    "Test()\n",
    "Test()"
   ]
  },
  {
   "cell_type": "code",
   "execution_count": 6,
   "id": "3156b6bb-f49e-42a2-b8a3-3fd4de45d96f",
   "metadata": {},
   "outputs": [
    {
     "data": {
      "text/plain": [
       "<__main__.Account at 0x1d2c619fce0>"
      ]
     },
     "execution_count": 6,
     "metadata": {},
     "output_type": "execute_result"
    }
   ],
   "source": [
    "class Account:\n",
    "    def open_account(self):\n",
    "        print(\"account opened successfully!\")\n",
    "    def deposit_amount(self,amount):\n",
    "        print(\"amount deposited successfully\")\n",
    "\n",
    "Account()"
   ]
  },
  {
   "cell_type": "code",
   "execution_count": 8,
   "id": "eb17abe3-2513-47be-be3d-c91a16350c78",
   "metadata": {},
   "outputs": [
    {
     "name": "stdout",
     "output_type": "stream",
     "text": [
      "account opened successfully!\n",
      "amount deposited successfully\n",
      "amount deposited successfully\n",
      "amount deposited successfully\n",
      "amount deposited successfully\n",
      "amount deposited successfully\n"
     ]
    }
   ],
   "source": [
    "class Account:\n",
    "    def open_account(self):\n",
    "        print(\"account opened successfully!\")\n",
    "    def deposit_amount(self,amount):\n",
    "        print(\"amount deposited successfully\")\n",
    "\n",
    "a1=Account()\n",
    "a1.open_account()\n",
    "a1.deposit_amount(5000)\n",
    "a1.deposit_amount(5000)\n",
    "a1.deposit_amount(5000)\n",
    "a1.deposit_amount(5000)\n",
    "a1.deposit_amount(5000)"
   ]
  },
  {
   "cell_type": "code",
   "execution_count": 9,
   "id": "be2c635d-b3e9-4c5a-b471-33067756322b",
   "metadata": {},
   "outputs": [
    {
     "ename": "TypeError",
     "evalue": "Account() takes no arguments",
     "output_type": "error",
     "traceback": [
      "\u001b[1;31m---------------------------------------------------------------------------\u001b[0m",
      "\u001b[1;31mTypeError\u001b[0m                                 Traceback (most recent call last)",
      "Cell \u001b[1;32mIn[9], line 7\u001b[0m\n\u001b[0;32m      4\u001b[0m     \u001b[38;5;28;01mdef\u001b[39;00m \u001b[38;5;21mdeposit_amount\u001b[39m(\u001b[38;5;28mself\u001b[39m,amount):\n\u001b[0;32m      5\u001b[0m         \u001b[38;5;28mprint\u001b[39m(\u001b[38;5;124m\"\u001b[39m\u001b[38;5;124mamount deposited successfully\u001b[39m\u001b[38;5;124m\"\u001b[39m)\n\u001b[1;32m----> 7\u001b[0m a1 \u001b[38;5;241m=\u001b[39m \u001b[43mAccount\u001b[49m\u001b[43m(\u001b[49m\u001b[38;5;241;43m101\u001b[39;49m\u001b[43m,\u001b[49m\u001b[38;5;124;43m'\u001b[39;49m\u001b[38;5;124;43mRahul\u001b[39;49m\u001b[38;5;124;43m'\u001b[39;49m\u001b[43m,\u001b[49m\u001b[38;5;124;43m'\u001b[39;49m\u001b[38;5;124;43mrahul@gmail.com\u001b[39;49m\u001b[38;5;124;43m'\u001b[39;49m\u001b[43m)\u001b[49m\n",
      "\u001b[1;31mTypeError\u001b[0m: Account() takes no arguments"
     ]
    }
   ],
   "source": [
    "class Account:\n",
    "    def open_account(self):\n",
    "        print(\"account opened successfully!\")\n",
    "    def deposit_amount(self,amount):\n",
    "        print(\"amount deposited successfully\")\n",
    "\n",
    "a1 = Account(101,'Rahul','rahul@gmail.com')\n"
   ]
  },
  {
   "cell_type": "code",
   "execution_count": 10,
   "id": "039b2e71-f06d-4d7e-835b-cf834b0a36cf",
   "metadata": {},
   "outputs": [],
   "source": [
    "class Account:\n",
    "    \n",
    "    def __init__(self,id,name,email):\n",
    "        self.acc_id=id\n",
    "        self.acc_name=name\n",
    "        self.acc_email=email\n",
    "        \n",
    "    def open_account(self):\n",
    "        print(\"account opened successfully!\")\n",
    "    def deposit_amount(self,amount):\n",
    "        print(\"amount deposited successfully\")\n",
    "\n",
    "a1 = Account(101,'Rahul','rahul@gmail.com')\n",
    "a2 = Account(102,'Sonia','Sonia@gmail.com')\n",
    "a3 = Account(103,'Priyanka','priya@gmail.com')"
   ]
  },
  {
   "cell_type": "code",
   "execution_count": 11,
   "id": "2b510890-b51a-4e29-8488-0df33cf99ee7",
   "metadata": {},
   "outputs": [
    {
     "name": "stdout",
     "output_type": "stream",
     "text": [
      "{'acc_id': 101, 'acc_name': 'Rahul', 'acc_email': 'rahul@gmail.com', 'acc_bal': 4000}\n",
      "{'acc_id': 102, 'acc_name': 'Sonia', 'acc_email': 'Sonia@gmail.com', 'acc_bal': 5000}\n",
      "{'acc_id': 103, 'acc_name': 'Priyanka', 'acc_email': 'priya@gmail.com', 'acc_bal': 6000}\n"
     ]
    }
   ],
   "source": [
    "class Account:\n",
    "    \n",
    "    def __init__(self,id,name,email,amount):\n",
    "        self.acc_id=id\n",
    "        self.acc_name=name\n",
    "        self.acc_email=email\n",
    "        self.acc_bal=amount\n",
    "        \n",
    "    def open_account(self):\n",
    "        print(\"account opened successfully!\")\n",
    "    def deposit_amount(self,amount):\n",
    "        print(\"amount deposited successfully\")\n",
    "\n",
    "a1 = Account(101,'Rahul','rahul@gmail.com',4000,)\n",
    "a2 = Account(102,'Sonia','Sonia@gmail.com',5000)\n",
    "a3 = Account(103,'Priyanka','priya@gmail.com',6000)\n",
    "\n",
    "print(a1.__dict__)\n",
    "print(a2.__dict__)\n",
    "print(a3.__dict__)"
   ]
  },
  {
   "cell_type": "code",
   "execution_count": 12,
   "id": "2c61752e-1ade-4c7d-a42a-913c551c7025",
   "metadata": {},
   "outputs": [
    {
     "name": "stdout",
     "output_type": "stream",
     "text": [
      "{'acc_id': 101, 'acc_name': 'Rahul', 'acc_email': 'rahul@gmail.com', 'acc_bal': 4000}\n",
      "{'acc_id': 102, 'acc_name': 'Sonia', 'acc_email': 'Sonia@gmail.com', 'acc_bal': 5000}\n",
      "{'acc_id': 103, 'acc_name': 'Priyanka', 'acc_email': 'priya@gmail.com', 'acc_bal': 6000}\n",
      "{'__module__': '__main__', 'min_bal': 500, '__init__': <function Account.__init__ at 0x000001D2C674DE40>, 'open_account': <function Account.open_account at 0x000001D2C674DEE0>, 'deposit_amount': <function Account.deposit_amount at 0x000001D2C674DF80>, '__dict__': <attribute '__dict__' of 'Account' objects>, '__weakref__': <attribute '__weakref__' of 'Account' objects>, '__doc__': None}\n"
     ]
    }
   ],
   "source": [
    "class Account:\n",
    "    min_bal=500   #static variable\n",
    "    def __init__(self,id,name,email,amount):\n",
    "        self.acc_id=id  \n",
    "        self.acc_name=name\n",
    "        self.acc_email=email\n",
    "        self.acc_bal=amount\n",
    "        \n",
    "    def open_account(self):\n",
    "        print(\"account opened successfully!\")\n",
    "    def deposit_amount(self,amount):\n",
    "        print(\"amount deposited successfully\")\n",
    "\n",
    "a1 = Account(101,'Rahul','rahul@gmail.com',4000,)\n",
    "a2 = Account(102,'Sonia','Sonia@gmail.com',5000)\n",
    "a3 = Account(103,'Priyanka','priya@gmail.com',6000)\n",
    "\n",
    "print(a1.__dict__)\n",
    "print(a2.__dict__)\n",
    "print(a3.__dict__)\n",
    "print(Account.__dict__)"
   ]
  },
  {
   "cell_type": "code",
   "execution_count": null,
   "id": "38c14eee-56f0-482d-a054-1d859e4713b3",
   "metadata": {},
   "outputs": [],
   "source": []
  }
 ],
 "metadata": {
  "kernelspec": {
   "display_name": "Python 3 (ipykernel)",
   "language": "python",
   "name": "python3"
  },
  "language_info": {
   "codemirror_mode": {
    "name": "ipython",
    "version": 3
   },
   "file_extension": ".py",
   "mimetype": "text/x-python",
   "name": "python",
   "nbconvert_exporter": "python",
   "pygments_lexer": "ipython3",
   "version": "3.12.2"
  }
 },
 "nbformat": 4,
 "nbformat_minor": 5
}
