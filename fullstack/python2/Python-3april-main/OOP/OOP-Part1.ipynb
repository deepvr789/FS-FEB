{
 "cells": [
  {
   "cell_type": "code",
   "execution_count": 3,
   "id": "9f979a13-6381-4134-9507-16c2720baaef",
   "metadata": {},
   "outputs": [
    {
     "ename": "IndentationError",
     "evalue": "expected an indented block after class definition on line 4 (1860892384.py, line 5)",
     "output_type": "error",
     "traceback": [
      "\u001b[1;36m  Cell \u001b[1;32mIn[3], line 5\u001b[1;36m\u001b[0m\n\u001b[1;33m    pass\u001b[0m\n\u001b[1;37m    ^\u001b[0m\n\u001b[1;31mIndentationError\u001b[0m\u001b[1;31m:\u001b[0m expected an indented block after class definition on line 4\n"
     ]
    }
   ],
   "source": [
    "#class is template/plan/draft/design/mould - to construct objects.\n",
    "#once object is created memory location allowcated.\n",
    "\n",
    "class Emp:\n",
    "pass\n",
    "    "
   ]
  },
  {
   "cell_type": "code",
   "execution_count": 4,
   "id": "b27201bb-b17b-4955-84a4-70a664cc3aec",
   "metadata": {},
   "outputs": [
    {
     "ename": "SyntaxError",
     "evalue": "invalid syntax (82824919.py, line 4)",
     "output_type": "error",
     "traceback": [
      "\u001b[1;36m  Cell \u001b[1;32mIn[4], line 4\u001b[1;36m\u001b[0m\n\u001b[1;33m    new Emp()\u001b[0m\n\u001b[1;37m        ^\u001b[0m\n\u001b[1;31mSyntaxError\u001b[0m\u001b[1;31m:\u001b[0m invalid syntax\n"
     ]
    }
   ],
   "source": [
    "\n",
    "class Emp:\n",
    "    pass\n",
    "\n",
    "new Emp()\n",
    "    "
   ]
  },
  {
   "cell_type": "code",
   "execution_count": 5,
   "id": "c02e9eaf-f9e6-4352-9862-3400e8e909d6",
   "metadata": {},
   "outputs": [
    {
     "data": {
      "text/plain": [
       "<__main__.Emp at 0x26ab8a4ab40>"
      ]
     },
     "execution_count": 5,
     "metadata": {},
     "output_type": "execute_result"
    }
   ],
   "source": [
    "\n",
    "class Emp:\n",
    "    pass\n",
    "\n",
    "Emp()\n",
    "Emp()\n",
    "Emp()"
   ]
  },
  {
   "cell_type": "code",
   "execution_count": 6,
   "id": "2ee54412-8465-46f7-bcc6-6ef1a2ecea0e",
   "metadata": {},
   "outputs": [
    {
     "name": "stdout",
     "output_type": "stream",
     "text": [
      "<__main__.Emp object at 0x0000026AB8A49640>\n",
      "<__main__.Emp object at 0x0000026AB8A6EA50>\n",
      "<__main__.Emp object at 0x0000026AB8A6E660>\n"
     ]
    }
   ],
   "source": [
    "class Emp:\n",
    "    pass\n",
    "\n",
    "e1=Emp()\n",
    "e2=Emp()\n",
    "e3=Emp()\n",
    "\n",
    "print(e1)\n",
    "print(e2)\n",
    "print(e3)"
   ]
  },
  {
   "cell_type": "code",
   "execution_count": 7,
   "id": "f9c6d347-3717-4dda-b0df-4b59d51fe569",
   "metadata": {},
   "outputs": [
    {
     "name": "stdout",
     "output_type": "stream",
     "text": [
      "2657387736016\n",
      "2657387583040\n",
      "2657387735632\n"
     ]
    }
   ],
   "source": [
    "class Emp:\n",
    "    pass\n",
    "\n",
    "e1=Emp()\n",
    "e2=Emp()\n",
    "e3=Emp()\n",
    "\n",
    "print(id(e1))\n",
    "print(id(e2))\n",
    "print(id(e3))"
   ]
  },
  {
   "cell_type": "code",
   "execution_count": 8,
   "id": "1dccd518-2a34-4ca9-9a29-4cefd68a1630",
   "metadata": {},
   "outputs": [
    {
     "name": "stdout",
     "output_type": "stream",
     "text": [
      "10\n",
      "Rahul\n",
      "<__main__.Emp object at 0x0000026AB8A4BF80>\n"
     ]
    }
   ],
   "source": [
    "a=10\n",
    "ename=\"Rahul\"\n",
    "\n",
    "class Emp:\n",
    "    pass\n",
    "\n",
    "e1=Emp()\n",
    "\n",
    "print(a)\n",
    "print(ename)\n",
    "print(e1)"
   ]
  },
  {
   "cell_type": "code",
   "execution_count": 9,
   "id": "0e1e8c84-ee30-4661-8178-8677276f2335",
   "metadata": {},
   "outputs": [
    {
     "name": "stdout",
     "output_type": "stream",
     "text": [
      "<class 'int'>\n",
      "<class 'str'>\n",
      "<class '__main__.Emp'>\n"
     ]
    }
   ],
   "source": [
    "a=10\n",
    "ename=\"Rahul\"\n",
    "\n",
    "class Emp:\n",
    "    pass\n",
    "\n",
    "e1=Emp()\n",
    "\n",
    "print(type(a))\n",
    "print(type(ename))\n",
    "print(type(e1))"
   ]
  },
  {
   "cell_type": "code",
   "execution_count": 10,
   "id": "3377fe1a-2b43-4a12-9a83-b35f976e3b47",
   "metadata": {},
   "outputs": [
    {
     "name": "stdout",
     "output_type": "stream",
     "text": [
      "<__main__.Account object at 0x0000026AB8A6F290>\n",
      "2657387737744\n",
      "<class '__main__.Account'>\n"
     ]
    }
   ],
   "source": [
    "class Account:\n",
    "    pass\n",
    "\n",
    "a1=Account()\n",
    "a2=Account()\n",
    "\n",
    "print(a1)\n",
    "print(id(a1))\n",
    "print(type(a1))"
   ]
  },
  {
   "cell_type": "code",
   "execution_count": 12,
   "id": "4213c26e-f502-4758-8c67-d78563079edb",
   "metadata": {},
   "outputs": [],
   "source": [
    "class Accouunt:\n",
    "    #class members - variable or method\n",
    "    pass\n",
    "\n"
   ]
  },
  {
   "cell_type": "code",
   "execution_count": 13,
   "id": "b770e7aa-304a-4cf5-bd6a-0822377205a9",
   "metadata": {},
   "outputs": [
    {
     "name": "stdout",
     "output_type": "stream",
     "text": [
      "<__main__.Account object at 0x0000026AB8B00DA0>\n",
      "2657388334496\n",
      "<class '__main__.Account'>\n",
      "{}\n"
     ]
    }
   ],
   "source": [
    "class Account:\n",
    "    min_bal=500\n",
    "\n",
    "a1=Account()\n",
    "print(a1)\n",
    "print(id(a1))\n",
    "print(type(a1))\n",
    "print(a1.__dict__)"
   ]
  },
  {
   "cell_type": "code",
   "execution_count": 14,
   "id": "a61e8b29-2e0c-4cc3-a970-8df744f442fe",
   "metadata": {},
   "outputs": [
    {
     "name": "stdout",
     "output_type": "stream",
     "text": [
      "{}\n",
      "{'__module__': '__main__', 'min_bal': 500, '__dict__': <attribute '__dict__' of 'Account' objects>, '__weakref__': <attribute '__weakref__' of 'Account' objects>, '__doc__': None}\n"
     ]
    }
   ],
   "source": [
    "class Account:\n",
    "    min_bal=500\n",
    "\n",
    "a1=Account()\n",
    "\n",
    "print(a1.__dict__)\n",
    "print(Account.__dict__)"
   ]
  },
  {
   "cell_type": "code",
   "execution_count": 15,
   "id": "194484c0-97bb-4a53-a7ee-d542ca1227fd",
   "metadata": {},
   "outputs": [
    {
     "name": "stdout",
     "output_type": "stream",
     "text": [
      "{}\n"
     ]
    }
   ],
   "source": [
    "class Employee:\n",
    "    eid=101\n",
    "    ename=\"Rahul\"\n",
    "    esal=45000\n",
    "\n",
    "\n",
    "e1=Employee()\n",
    "print(e1.__dict__)\n",
    "    "
   ]
  },
  {
   "cell_type": "code",
   "execution_count": 16,
   "id": "57cc1cdf-53b4-42f9-8f67-11e484ad09c8",
   "metadata": {},
   "outputs": [
    {
     "name": "stdout",
     "output_type": "stream",
     "text": [
      "{'__module__': '__main__', 'eid': 101, 'ename': 'Rahul', 'esal': 45000, '__dict__': <attribute '__dict__' of 'Employee' objects>, '__weakref__': <attribute '__weakref__' of 'Employee' objects>, '__doc__': None}\n"
     ]
    }
   ],
   "source": [
    "class Employee:\n",
    "    eid=101\n",
    "    ename=\"Rahul\"\n",
    "    esal=45000\n",
    "\n",
    "\n",
    "e1=Employee()\n",
    "print(Employee.__dict__)"
   ]
  },
  {
   "cell_type": "code",
   "execution_count": null,
   "id": "ab726454-1acd-4a85-b757-656049399b82",
   "metadata": {},
   "outputs": [],
   "source": []
  }
 ],
 "metadata": {
  "kernelspec": {
   "display_name": "Python 3 (ipykernel)",
   "language": "python",
   "name": "python3"
  },
  "language_info": {
   "codemirror_mode": {
    "name": "ipython",
    "version": 3
   },
   "file_extension": ".py",
   "mimetype": "text/x-python",
   "name": "python",
   "nbconvert_exporter": "python",
   "pygments_lexer": "ipython3",
   "version": "3.12.2"
  }
 },
 "nbformat": 4,
 "nbformat_minor": 5
}
