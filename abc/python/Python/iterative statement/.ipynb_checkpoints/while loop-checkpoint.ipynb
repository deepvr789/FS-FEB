{
 "cells": [
  {
   "cell_type": "code",
   "execution_count": 1,
   "id": "f8b7d417",
   "metadata": {},
   "outputs": [
    {
     "name": "stdout",
     "output_type": "stream",
     "text": [
      "1\n",
      "2\n",
      "3\n",
      "4\n",
      "5\n"
     ]
    }
   ],
   "source": [
    "#if we want to iterate sequence use for loop \n",
    "#sequence may be list,tuple,set,string,range\n",
    "i = 1\n",
    "while i <= 5: # colon is used to start block of code\n",
    "    print(i)\n",
    "    i = i +1 #i++ will not work\n",
    "#if we want to exe st,until condition is false"
   ]
  },
  {
   "cell_type": "code",
   "execution_count": 4,
   "id": "ff81851e",
   "metadata": {},
   "outputs": [
    {
     "name": "stdout",
     "output_type": "stream",
     "text": [
      "1\n",
      "2\n",
      "3\n",
      "4\n",
      "5\n",
      "6\n",
      "7\n",
      "8\n",
      "9\n",
      "10\n"
     ]
    }
   ],
   "source": [
    "for i in range (1,11):\n",
    "    print(i)"
   ]
  },
  {
   "cell_type": "code",
   "execution_count": 5,
   "id": "5963b887",
   "metadata": {},
   "outputs": [
    {
     "name": "stdout",
     "output_type": "stream",
     "text": [
      "1\n",
      "2\n",
      "3\n",
      "4\n",
      "5\n"
     ]
    }
   ],
   "source": [
    "#print 1,2,3,4,5 -while\n",
    "i = 1\n",
    "while i <= 5: # colon is used to start block of code\n",
    "    print(i)\n",
    "    i = i +1\n"
   ]
  },
  {
   "cell_type": "code",
   "execution_count": 6,
   "id": "ec61bff5",
   "metadata": {},
   "outputs": [
    {
     "name": "stdout",
     "output_type": "stream",
     "text": [
      "rahul\n",
      "sonia\n",
      "priyanka\n"
     ]
    }
   ],
   "source": [
    "#list using for loop\n",
    "enames=[\"rahul\",\"sonia\",\"priyanka\"]\n",
    "for ename in enames:\n",
    "    print(ename)"
   ]
  },
  {
   "cell_type": "code",
   "execution_count": 3,
   "id": "8188ce71",
   "metadata": {},
   "outputs": [
    {
     "name": "stdout",
     "output_type": "stream",
     "text": [
      "1\n",
      "2\n",
      "3\n",
      "5\n",
      "6\n",
      "7\n",
      "8\n",
      "9\n",
      "10\n"
     ]
    }
   ],
   "source": [
    "i = 1\n",
    "\n",
    "while i <= 10:\n",
    "    if i == 4:\n",
    "        i =i+ 1\n",
    "        continue\n",
    "    print(i)\n",
    "    i =i+ 1"
   ]
  },
  {
   "cell_type": "code",
   "execution_count": 2,
   "id": "8028207f",
   "metadata": {},
   "outputs": [
    {
     "name": "stdout",
     "output_type": "stream",
     "text": [
      "1\n",
      "2\n",
      "3\n",
      "4\n",
      "5\n"
     ]
    }
   ],
   "source": [
    "i = 1;\n",
    "while i<=5:\n",
    "    print(i)\n",
    "    i=i+1"
   ]
  },
  {
   "cell_type": "code",
   "execution_count": null,
   "id": "133630ce",
   "metadata": {},
   "outputs": [],
   "source": [
    "#using while loop 1)print GA 20 times 2)10-20 3)first 10 even numbers 4)print 100-1 5)print 5 table"
   ]
  },
  {
   "cell_type": "code",
   "execution_count": 3,
   "id": "ddc07112",
   "metadata": {},
   "outputs": [
    {
     "name": "stdout",
     "output_type": "stream",
     "text": [
      "Good Morning\n",
      "Good Morning\n",
      "Good Morning\n",
      "Good Morning\n",
      "Good Morning\n",
      "Good Morning\n",
      "Good Morning\n",
      "Good Morning\n",
      "Good Morning\n",
      "Good Morning\n",
      "Good Morning\n",
      "Good Morning\n",
      "Good Morning\n",
      "Good Morning\n",
      "Good Morning\n",
      "Good Morning\n",
      "Good Morning\n",
      "Good Morning\n",
      "Good Morning\n",
      "Good Morning\n"
     ]
    }
   ],
   "source": [
    "i= 1;\n",
    "while i<=20:\n",
    "    print(\"Good Morning\")\n",
    "    i=i+1"
   ]
  },
  {
   "cell_type": "code",
   "execution_count": null,
   "id": "baff1727",
   "metadata": {},
   "outputs": [],
   "source": [
    "i=10;\n",
    "while i<=20:\n",
    "    print(i)\n",
    "    i=i+1"
   ]
  },
  {
   "cell_type": "code",
   "execution_count": null,
   "id": "6fee0005",
   "metadata": {},
   "outputs": [],
   "source": [
    "i = 0\n",
    "num = 0\n",
    "\n",
    "while i < 10:\n",
    "    if num % 2 == 0:\n",
    "        print(num)\n",
    "        i += 1\n",
    "    num += 1\n",
    "   \n"
   ]
  },
  {
   "cell_type": "code",
   "execution_count": null,
   "id": "c542ac29",
   "metadata": {},
   "outputs": [],
   "source": [
    "i=0;\n",
    "while i<=18:\n",
    "    print(i)\n",
    "    i=i+2"
   ]
  },
  {
   "cell_type": "code",
   "execution_count": null,
   "id": "74e4de3b",
   "metadata": {},
   "outputs": [],
   "source": []
  }
 ],
 "metadata": {
  "kernelspec": {
   "display_name": "Python 3 (ipykernel)",
   "language": "python",
   "name": "python3"
  },
  "language_info": {
   "codemirror_mode": {
    "name": "ipython",
    "version": 3
   },
   "file_extension": ".py",
   "mimetype": "text/x-python",
   "name": "python",
   "nbconvert_exporter": "python",
   "pygments_lexer": "ipython3",
   "version": "3.9.7"
  }
 },
 "nbformat": 4,
 "nbformat_minor": 5
}
