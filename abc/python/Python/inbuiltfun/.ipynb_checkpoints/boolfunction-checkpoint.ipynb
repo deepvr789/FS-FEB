{
 "cells": [
  {
   "cell_type": "code",
   "execution_count": 1,
   "id": "7e0810f7-3156-411d-91bf-fa7cb2be49d4",
   "metadata": {},
   "outputs": [
    {
     "name": "stdout",
     "output_type": "stream",
     "text": [
      "False\n",
      "True\n"
     ]
    }
   ],
   "source": [
    "#bool() - inbuilt function, convert from one type bool type\n",
    "\n",
    "print(bool(0))\n",
    "print(bool(20))"
   ]
  },
  {
   "cell_type": "code",
   "execution_count": 2,
   "id": "6b0d4fc9-ff01-486e-9ba6-776de05c9416",
   "metadata": {},
   "outputs": [
    {
     "name": "stdout",
     "output_type": "stream",
     "text": [
      "True\n",
      "True\n"
     ]
    }
   ],
   "source": [
    "print(bool(\"20\"))\n",
    "print(bool(\"Twenty\"))"
   ]
  },
  {
   "cell_type": "code",
   "execution_count": 3,
   "id": "210ed7b8-1397-42cc-af2a-188cb6554f56",
   "metadata": {},
   "outputs": [
    {
     "name": "stdout",
     "output_type": "stream",
     "text": [
      "True\n",
      "False\n"
     ]
    }
   ],
   "source": [
    "print(bool(\"Twenty\"))\n",
    "print(bool(\"\"))"
   ]
  },
  {
   "cell_type": "code",
   "execution_count": 5,
   "id": "039743f2-13a8-4418-aa78-427456607eb5",
   "metadata": {},
   "outputs": [
    {
     "name": "stdout",
     "output_type": "stream",
     "text": [
      "True\n",
      "False\n"
     ]
    }
   ],
   "source": [
    "print(bool(10.5))  #True\n",
    "print(bool(0.0))   #False"
   ]
  },
  {
   "cell_type": "code",
   "execution_count": null,
   "id": "8a034169-b6af-4fc0-8a33-f824a281758d",
   "metadata": {},
   "outputs": [],
   "source": []
  }
 ],
 "metadata": {
  "kernelspec": {
   "display_name": "Python 3 (ipykernel)",
   "language": "python",
   "name": "python3"
  },
  "language_info": {
   "codemirror_mode": {
    "name": "ipython",
    "version": 3
   },
   "file_extension": ".py",
   "mimetype": "text/x-python",
   "name": "python",
   "nbconvert_exporter": "python",
   "pygments_lexer": "ipython3",
   "version": "3.12.2"
  }
 },
 "nbformat": 4,
 "nbformat_minor": 5
}
