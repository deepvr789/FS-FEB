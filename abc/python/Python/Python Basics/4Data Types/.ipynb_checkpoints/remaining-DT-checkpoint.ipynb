{
 "cells": [
  {
   "cell_type": "code",
   "execution_count": 2,
   "id": "c2cc091a-1dd1-4b27-b377-b8af5472f050",
   "metadata": {},
   "outputs": [
    {
     "ename": "ValueError",
     "evalue": "bytes must be in range(0, 256)",
     "output_type": "error",
     "traceback": [
      "\u001b[1;31m------------------------------------------------------------------------\u001b[0m",
      "\u001b[1;31mValueError\u001b[0m                             Traceback (most recent call last)",
      "Cell \u001b[1;32mIn[2], line 5\u001b[0m\n\u001b[0;32m      1\u001b[0m \u001b[38;5;66;03m#bytes    -Immutable - group values in between 0 to 255\u001b[39;00m\n\u001b[0;32m      2\u001b[0m \u001b[38;5;66;03m#bytearray-Mutable\u001b[39;00m\n\u001b[0;32m      4\u001b[0m l1 \u001b[38;5;241m=\u001b[39m[\u001b[38;5;241m10\u001b[39m,\u001b[38;5;241m20\u001b[39m,\u001b[38;5;241m100\u001b[39m,\u001b[38;5;241m256\u001b[39m]\n\u001b[1;32m----> 5\u001b[0m b \u001b[38;5;241m=\u001b[39m \u001b[38;5;28;43mbytes\u001b[39;49m\u001b[43m(\u001b[49m\u001b[43ml1\u001b[49m\u001b[43m)\u001b[49m\n\u001b[0;32m      6\u001b[0m ba \u001b[38;5;241m=\u001b[39m \u001b[38;5;28mbytearray\u001b[39m(l1)\n\u001b[0;32m      7\u001b[0m \u001b[38;5;28mprint\u001b[39m(b)\n",
      "\u001b[1;31mValueError\u001b[0m: bytes must be in range(0, 256)"
     ]
    }
   ],
   "source": [
    "#bytes    -Immutable - group values in between 0 to 255\n",
    "#bytearray-Mutable\n",
    "\n",
    "l1 =[10,20,100,256]\n",
    "b = bytes(l1)\n",
    "ba = bytearray(l1)\n",
    "print(b)\n",
    "print(ba)\n",
    "\n",
    "#print data types\n",
    "\n",
    "print(type(b))\n",
    "print(type(ba))"
   ]
  },
  {
   "cell_type": "code",
   "execution_count": 3,
   "id": "07e566e3-554e-43c9-bf76-9f4c45309b28",
   "metadata": {},
   "outputs": [
    {
     "name": "stdout",
     "output_type": "stream",
     "text": [
      "{104, 101, 102, 103}\n"
     ]
    }
   ],
   "source": [
    "s1 = {101,102,103,104,101,102,103,104}\n",
    "print(s1)"
   ]
  },
  {
   "cell_type": "code",
   "execution_count": 4,
   "id": "54eb3eeb-67d1-4c4d-a241-12b7e6e8d81c",
   "metadata": {},
   "outputs": [
    {
     "name": "stdout",
     "output_type": "stream",
     "text": [
      "frozenset({104, 101, 102, 103})\n",
      "<class 'frozenset'>\n"
     ]
    }
   ],
   "source": [
    "s1 = {101,102,103,104,101,102,103,104}\n",
    "\n",
    "#create fs object\n",
    "fs = frozenset(s1)\n",
    "print(fs)\n",
    "print(type(fs))"
   ]
  },
  {
   "cell_type": "code",
   "execution_count": 5,
   "id": "01aaa12f-125a-4452-8272-d2d7ffe9023e",
   "metadata": {},
   "outputs": [
    {
     "ename": "TypeError",
     "evalue": "range expected at least 1 argument, got 0",
     "output_type": "error",
     "traceback": [
      "\u001b[1;31m------------------------------------------------------------------------\u001b[0m",
      "\u001b[1;31mTypeError\u001b[0m                              Traceback (most recent call last)",
      "Cell \u001b[1;32mIn[5], line 1\u001b[0m\n\u001b[1;32m----> 1\u001b[0m r1 \u001b[38;5;241m=\u001b[39m \u001b[38;5;28;43mrange\u001b[39;49m\u001b[43m(\u001b[49m\u001b[43m)\u001b[49m\n",
      "\u001b[1;31mTypeError\u001b[0m: range expected at least 1 argument, got 0"
     ]
    }
   ],
   "source": [
    "r1 = range()"
   ]
  },
  {
   "cell_type": "code",
   "execution_count": 6,
   "id": "a233e9b4-7537-48e1-93f8-79f31c35d388",
   "metadata": {},
   "outputs": [],
   "source": [
    "r1 = range(10)\n",
    "r2= range(1,50)\n",
    "r3 = range(5,51,5)\n",
    "#r4= range(100,0,-1)\n",
    "#r5 = range(1,11)\n",
    "\n",
    "#r6= range(10,0,-1)"
   ]
  },
  {
   "cell_type": "code",
   "execution_count": 8,
   "id": "97bbbfb4-68ba-437d-b9dc-678a677695c6",
   "metadata": {},
   "outputs": [
    {
     "name": "stdout",
     "output_type": "stream",
     "text": [
      "range(0, 10)\n",
      "range(1, 50)\n",
      "range(5, 51, 5)\n",
      "<class 'range'>\n",
      "<class 'range'>\n",
      "<class 'range'>\n"
     ]
    }
   ],
   "source": [
    "r1 = range(10)\n",
    "r2= range(1,50)\n",
    "r3 = range(5,51,5)\n",
    "\n",
    "print(r1)\n",
    "print(r2)\n",
    "print(r3)\n",
    "print(type(r1))\n",
    "print(type(r2))\n",
    "print(type(r3))"
   ]
  },
  {
   "cell_type": "code",
   "execution_count": 10,
   "id": "8f8e0f59-eeb7-4af2-8a3a-b2a1960df24e",
   "metadata": {},
   "outputs": [
    {
     "name": "stdout",
     "output_type": "stream",
     "text": [
      "1\n",
      "2\n",
      "3\n",
      "4\n",
      "5\n",
      "6\n",
      "7\n",
      "8\n",
      "9\n",
      "10\n",
      "10\n",
      "9\n",
      "8\n",
      "7\n",
      "6\n",
      "5\n",
      "4\n",
      "3\n",
      "2\n",
      "1\n"
     ]
    }
   ],
   "source": [
    "# print 1 to 10\n",
    "# print 10 to 1\n",
    "\n",
    "for i in range(1,11):\n",
    "    print(i)\n",
    "\n",
    "for i in range(10,0,-1):\n",
    "    print(i)"
   ]
  },
  {
   "cell_type": "code",
   "execution_count": 11,
   "id": "fd222ded-66f2-420a-a981-ff3516438b8f",
   "metadata": {},
   "outputs": [
    {
     "ename": "NameError",
     "evalue": "name 'null' is not defined",
     "output_type": "error",
     "traceback": [
      "\u001b[1;31m------------------------------------------------------------------------\u001b[0m",
      "\u001b[1;31mNameError\u001b[0m                              Traceback (most recent call last)",
      "Cell \u001b[1;32mIn[11], line 4\u001b[0m\n\u001b[0;32m      1\u001b[0m \u001b[38;5;66;03m#print NoneType - Data\u001b[39;00m\n\u001b[0;32m      2\u001b[0m \u001b[38;5;66;03m# how to represent null value in python - using None.\u001b[39;00m\n\u001b[1;32m----> 4\u001b[0m a\u001b[38;5;241m=\u001b[39m \u001b[43mnull\u001b[49m\n\u001b[0;32m      5\u001b[0m \u001b[38;5;28mprint\u001b[39m(a)\n",
      "\u001b[1;31mNameError\u001b[0m: name 'null' is not defined"
     ]
    }
   ],
   "source": [
    "#print NoneType - Data\n",
    "# how to represent null value in python - using None.\n",
    "\n",
    "a= null\n",
    "print(a)\n"
   ]
  },
  {
   "cell_type": "code",
   "execution_count": 12,
   "id": "7508a41c-ef9e-4573-9d6e-16bec5a542ca",
   "metadata": {},
   "outputs": [
    {
     "name": "stdout",
     "output_type": "stream",
     "text": [
      "<class 'NoneType'>\n"
     ]
    }
   ],
   "source": [
    "a= None\n",
    "print(type(a))"
   ]
  },
  {
   "cell_type": "code",
   "execution_count": 16,
   "id": "b7ad1e1a-4d11-4c9e-9777-74b0c7cd803b",
   "metadata": {},
   "outputs": [
    {
     "name": "stdout",
     "output_type": "stream",
     "text": [
      "None\n",
      "<class 'NoneType'>\n"
     ]
    }
   ],
   "source": [
    "def cal_Age():\n",
    "    #return 42\n",
    "    pass\n",
    "\n",
    "print(cal_Age())\n",
    "print(type(cal_Age()))"
   ]
  },
  {
   "cell_type": "code",
   "execution_count": null,
   "id": "ccada702-f012-4c76-8a42-1908411d0180",
   "metadata": {},
   "outputs": [],
   "source": []
  }
 ],
 "metadata": {
  "kernelspec": {
   "display_name": "Python 3 (ipykernel)",
   "language": "python",
   "name": "python3"
  },
  "language_info": {
   "codemirror_mode": {
    "name": "ipython",
    "version": 3
   },
   "file_extension": ".py",
   "mimetype": "text/x-python",
   "name": "python",
   "nbconvert_exporter": "python",
   "pygments_lexer": "ipython3",
   "version": "3.12.2"
  }
 },
 "nbformat": 4,
 "nbformat_minor": 5
}
